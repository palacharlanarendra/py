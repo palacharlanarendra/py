{
 "cells": [
  {
   "cell_type": "code",
   "execution_count": 2,
   "id": "e6fced79",
   "metadata": {},
   "outputs": [
    {
     "name": "stdout",
     "output_type": "stream",
     "text": [
      "input the command: exit\n",
      "if dont understand that....\n"
     ]
    }
   ],
   "source": [
    "command_for_car  = input(\"input the command: \").lower()\n",
    "car_status = False\n",
    "while True:\n",
    "    if(command_for_car==\"start\"):\n",
    "        if(car_status):\n",
    "            print(\"car is already started\")\n",
    "            break\n",
    "        else:\n",
    "            car_status = True\n",
    "            print(\"car started\")\n",
    "            break\n",
    "    elif(command_for_car==\"stop\"): \n",
    "        if(car_status):\n",
    "            print(\"car is already stopped\")\n",
    "            break\n",
    "        else:\n",
    "            car_status = False\n",
    "            print(\"car stopped\")\n",
    "            break\n",
    "    elif(command_for_car==\"quit\"):\n",
    "        print(\"exit the car\")\n",
    "        break\n",
    "    else:\n",
    "        print(\"if dont understand that....\")\n",
    "        break"
   ]
  },
  {
   "cell_type": "code",
   "execution_count": null,
   "id": "beca5e33",
   "metadata": {},
   "outputs": [],
   "source": []
  }
 ],
 "metadata": {
  "kernelspec": {
   "display_name": "Python 3 (ipykernel)",
   "language": "python",
   "name": "python3"
  },
  "language_info": {
   "codemirror_mode": {
    "name": "ipython",
    "version": 3
   },
   "file_extension": ".py",
   "mimetype": "text/x-python",
   "name": "python",
   "nbconvert_exporter": "python",
   "pygments_lexer": "ipython3",
   "version": "3.9.7"
  }
 },
 "nbformat": 4,
 "nbformat_minor": 5
}
