{
 "cells": [
  {
   "cell_type": "code",
   "execution_count": 1,
   "id": "3a9a525e",
   "metadata": {},
   "outputs": [],
   "source": [
    "a = 10"
   ]
  },
  {
   "cell_type": "code",
   "execution_count": 3,
   "id": "311d92ba",
   "metadata": {},
   "outputs": [],
   "source": [
    "int_var = 10\n",
    "str_var = \"I am cool\"\n",
    "float_var = 10.0\n",
    "boolean_var = True"
   ]
  },
  {
   "cell_type": "code",
   "execution_count": 4,
   "id": "66463381",
   "metadata": {},
   "outputs": [
    {
     "data": {
      "text/plain": [
       "True"
      ]
     },
     "execution_count": 4,
     "metadata": {},
     "output_type": "execute_result"
    }
   ],
   "source": [
    "int_var\n",
    "str_var\n",
    "float_var \n",
    "boolean_var"
   ]
  },
  {
   "cell_type": "code",
   "execution_count": 5,
   "id": "5c462a6d",
   "metadata": {},
   "outputs": [
    {
     "name": "stdout",
     "output_type": "stream",
     "text": [
      "10\n",
      "I am cool\n",
      "10.0\n",
      "True\n"
     ]
    }
   ],
   "source": [
    "print(int_var)\n",
    "print(str_var)\n",
    "print(float_var) \n",
    "print(boolean_var)"
   ]
  },
  {
   "cell_type": "code",
   "execution_count": 6,
   "id": "a3154f6b",
   "metadata": {},
   "outputs": [
    {
     "data": {
      "text/plain": [
       "\"Hello 'World'\""
      ]
     },
     "execution_count": 6,
     "metadata": {},
     "output_type": "execute_result"
    }
   ],
   "source": [
    "a= 'Hello World'\n",
    "a = \"Hello 'World'\"\n",
    "a"
   ]
  },
  {
   "cell_type": "code",
   "execution_count": 7,
   "id": "2698d5b7",
   "metadata": {},
   "outputs": [
    {
     "data": {
      "text/plain": [
       "\"Hello 'World'\""
      ]
     },
     "execution_count": 7,
     "metadata": {},
     "output_type": "execute_result"
    }
   ],
   "source": [
    "a"
   ]
  },
  {
   "cell_type": "code",
   "execution_count": 10,
   "id": "c6f6fae8",
   "metadata": {},
   "outputs": [],
   "source": [
    "b = a.split(\" \");"
   ]
  },
  {
   "cell_type": "code",
   "execution_count": 9,
   "id": "2f43f73a",
   "metadata": {},
   "outputs": [
    {
     "data": {
      "text/plain": [
       "\"Hello 'World'\""
      ]
     },
     "execution_count": 9,
     "metadata": {},
     "output_type": "execute_result"
    }
   ],
   "source": [
    "a"
   ]
  },
  {
   "cell_type": "code",
   "execution_count": 11,
   "id": "2d380bbf",
   "metadata": {},
   "outputs": [
    {
     "data": {
      "text/plain": [
       "['Hello', \"'World'\"]"
      ]
     },
     "execution_count": 11,
     "metadata": {},
     "output_type": "execute_result"
    }
   ],
   "source": [
    "b"
   ]
  },
  {
   "cell_type": "code",
   "execution_count": 12,
   "id": "66e2888a",
   "metadata": {},
   "outputs": [],
   "source": [
    "list_var = [2,10,35,21,\"abc\",True,2.0] "
   ]
  },
  {
   "cell_type": "code",
   "execution_count": 13,
   "id": "01f77afb",
   "metadata": {},
   "outputs": [
    {
     "data": {
      "text/plain": [
       "[2, 10, 35, 21, 'abc', True, 2.0]"
      ]
     },
     "execution_count": 13,
     "metadata": {},
     "output_type": "execute_result"
    }
   ],
   "source": [
    "list_var"
   ]
  },
  {
   "cell_type": "code",
   "execution_count": 14,
   "id": "c5299b63",
   "metadata": {},
   "outputs": [
    {
     "name": "stdout",
     "output_type": "stream",
     "text": [
      "type of the variable  <class 'list'>\n"
     ]
    }
   ],
   "source": [
    "print(\"type of the variable \", type(list_var))"
   ]
  },
  {
   "cell_type": "code",
   "execution_count": 15,
   "id": "60830611",
   "metadata": {},
   "outputs": [
    {
     "ename": "TypeError",
     "evalue": "'<' not supported between instances of 'str' and 'int'",
     "output_type": "error",
     "traceback": [
      "\u001b[0;31m---------------------------------------------------------------------------\u001b[0m",
      "\u001b[0;31mTypeError\u001b[0m                                 Traceback (most recent call last)",
      "\u001b[0;32m/tmp/ipykernel_126916/1862581914.py\u001b[0m in \u001b[0;36m<module>\u001b[0;34m\u001b[0m\n\u001b[0;32m----> 1\u001b[0;31m \u001b[0mlist_var\u001b[0m\u001b[0;34m.\u001b[0m\u001b[0msort\u001b[0m\u001b[0;34m(\u001b[0m\u001b[0;34m)\u001b[0m\u001b[0;34m\u001b[0m\u001b[0;34m\u001b[0m\u001b[0m\n\u001b[0m",
      "\u001b[0;31mTypeError\u001b[0m: '<' not supported between instances of 'str' and 'int'"
     ]
    }
   ],
   "source": [
    "list_var.sort()"
   ]
  },
  {
   "cell_type": "code",
   "execution_count": 16,
   "id": "75b003bc",
   "metadata": {},
   "outputs": [
    {
     "data": {
      "text/plain": [
       "[2, 10, 21, 35, 'abc', True, 2.0]"
      ]
     },
     "execution_count": 16,
     "metadata": {},
     "output_type": "execute_result"
    }
   ],
   "source": [
    "list_var"
   ]
  },
  {
   "cell_type": "code",
   "execution_count": 17,
   "id": "0c0b5198",
   "metadata": {},
   "outputs": [
    {
     "ename": "TypeError",
     "evalue": "'<' not supported between instances of 'str' and 'int'",
     "output_type": "error",
     "traceback": [
      "\u001b[0;31m---------------------------------------------------------------------------\u001b[0m",
      "\u001b[0;31mTypeError\u001b[0m                                 Traceback (most recent call last)",
      "\u001b[0;32m/tmp/ipykernel_126916/1862581914.py\u001b[0m in \u001b[0;36m<module>\u001b[0;34m\u001b[0m\n\u001b[0;32m----> 1\u001b[0;31m \u001b[0mlist_var\u001b[0m\u001b[0;34m.\u001b[0m\u001b[0msort\u001b[0m\u001b[0;34m(\u001b[0m\u001b[0;34m)\u001b[0m\u001b[0;34m\u001b[0m\u001b[0;34m\u001b[0m\u001b[0m\n\u001b[0m",
      "\u001b[0;31mTypeError\u001b[0m: '<' not supported between instances of 'str' and 'int'"
     ]
    }
   ],
   "source": [
    "list_var.sort()"
   ]
  },
  {
   "cell_type": "code",
   "execution_count": 18,
   "id": "cb1e4ccd",
   "metadata": {},
   "outputs": [],
   "source": [
    "list_var.append(100)"
   ]
  },
  {
   "cell_type": "code",
   "execution_count": 19,
   "id": "9fc49f0d",
   "metadata": {},
   "outputs": [
    {
     "data": {
      "text/plain": [
       "[2, 10, 21, 35, 'abc', True, 2.0, 100]"
      ]
     },
     "execution_count": 19,
     "metadata": {},
     "output_type": "execute_result"
    }
   ],
   "source": [
    "list_var"
   ]
  },
  {
   "cell_type": "code",
   "execution_count": 20,
   "id": "12587978",
   "metadata": {},
   "outputs": [],
   "source": [
    "list_int = [1,2,3,4,10,9,8]"
   ]
  },
  {
   "cell_type": "code",
   "execution_count": 21,
   "id": "81ee5969",
   "metadata": {},
   "outputs": [],
   "source": [
    "list_var.extend(['a','b','c'])"
   ]
  },
  {
   "cell_type": "raw",
   "id": "a798439c",
   "metadata": {},
   "source": []
  },
  {
   "cell_type": "code",
   "execution_count": 22,
   "id": "489e40d4",
   "metadata": {},
   "outputs": [
    {
     "data": {
      "text/plain": [
       "[2, 10, 21, 35, 'abc', True, 2.0, 100, 'a', 'b', 'c']"
      ]
     },
     "execution_count": 22,
     "metadata": {},
     "output_type": "execute_result"
    }
   ],
   "source": [
    "list_var"
   ]
  },
  {
   "cell_type": "code",
   "execution_count": 23,
   "id": "5af627b8",
   "metadata": {},
   "outputs": [
    {
     "name": "stdout",
     "output_type": "stream",
     "text": [
      "\n",
      "List help funcions\n"
     ]
    }
   ],
   "source": [
    "print (\"\\nList help funcions\")"
   ]
  },
  {
   "cell_type": "code",
   "execution_count": 25,
   "id": "5db5a8c3",
   "metadata": {},
   "outputs": [
    {
     "name": "stdout",
     "output_type": "stream",
     "text": [
      "\n",
      "List help funcions \n",
      " some please\n"
     ]
    }
   ],
   "source": [
    "print (\"\\nList help funcions \\n some please\")"
   ]
  },
  {
   "cell_type": "code",
   "execution_count": 26,
   "id": "8a922195",
   "metadata": {},
   "outputs": [
    {
     "name": "stdout",
     "output_type": "stream",
     "text": [
      "Help on method_descriptor:\n",
      "\n",
      "insert(self, index, object, /)\n",
      "    Insert object before index.\n",
      "\n"
     ]
    }
   ],
   "source": [
    "help(list.insert)"
   ]
  },
  {
   "cell_type": "code",
   "execution_count": 27,
   "id": "9a159928",
   "metadata": {},
   "outputs": [],
   "source": [
    "list_var.insert(10,109)"
   ]
  },
  {
   "cell_type": "code",
   "execution_count": 28,
   "id": "a8d7e90a",
   "metadata": {},
   "outputs": [
    {
     "data": {
      "text/plain": [
       "[2, 10, 21, 35, 'abc', True, 2.0, 100, 'a', 'b', 109, 'c']"
      ]
     },
     "execution_count": 28,
     "metadata": {},
     "output_type": "execute_result"
    }
   ],
   "source": [
    "list_var"
   ]
  },
  {
   "cell_type": "code",
   "execution_count": null,
   "id": "b5242c1d",
   "metadata": {},
   "outputs": [],
   "source": [
    "\n",
    "\n",
    "\n"
   ]
  }
 ],
 "metadata": {
  "kernelspec": {
   "display_name": "Python 3 (ipykernel)",
   "language": "python",
   "name": "python3"
  },
  "language_info": {
   "codemirror_mode": {
    "name": "ipython",
    "version": 3
   },
   "file_extension": ".py",
   "mimetype": "text/x-python",
   "name": "python",
   "nbconvert_exporter": "python",
   "pygments_lexer": "ipython3",
   "version": "3.9.7"
  }
 },
 "nbformat": 4,
 "nbformat_minor": 5
}
