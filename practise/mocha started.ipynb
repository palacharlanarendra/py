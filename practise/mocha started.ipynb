{
 "cells": [
  {
   "cell_type": "code",
   "execution_count": 1,
   "id": "d6e76335",
   "metadata": {},
   "outputs": [],
   "source": [
    "price  = 10 "
   ]
  },
  {
   "cell_type": "code",
   "execution_count": 2,
   "id": "3c767c29",
   "metadata": {},
   "outputs": [
    {
     "name": "stdout",
     "output_type": "stream",
     "text": [
      "10\n"
     ]
    }
   ],
   "source": [
    "print(price)"
   ]
  },
  {
   "cell_type": "code",
   "execution_count": 3,
   "id": "7c5ea0b8",
   "metadata": {},
   "outputs": [
    {
     "name": "stdout",
     "output_type": "stream",
     "text": [
      "**********\n"
     ]
    }
   ],
   "source": [
    "print('*'*10)"
   ]
  },
  {
   "cell_type": "code",
   "execution_count": 5,
   "id": "d6563d80",
   "metadata": {},
   "outputs": [],
   "source": [
    "price = 20 "
   ]
  },
  {
   "cell_type": "code",
   "execution_count": 6,
   "id": "e4496320",
   "metadata": {},
   "outputs": [
    {
     "name": "stdout",
     "output_type": "stream",
     "text": [
      "20\n"
     ]
    }
   ],
   "source": [
    "print(price)"
   ]
  },
  {
   "cell_type": "code",
   "execution_count": 7,
   "id": "538b914e",
   "metadata": {},
   "outputs": [],
   "source": [
    "is_published = False"
   ]
  },
  {
   "cell_type": "code",
   "execution_count": 8,
   "id": "2b608cf5",
   "metadata": {},
   "outputs": [
    {
     "data": {
      "text/plain": [
       "False"
      ]
     },
     "execution_count": 8,
     "metadata": {},
     "output_type": "execute_result"
    }
   ],
   "source": [
    "is_published"
   ]
  },
  {
   "cell_type": "code",
   "execution_count": 11,
   "id": "cb697dfa",
   "metadata": {},
   "outputs": [],
   "source": [
    "#This is comment"
   ]
  },
  {
   "cell_type": "code",
   "execution_count": 10,
   "id": "3476487c",
   "metadata": {},
   "outputs": [],
   "source": [
    "# This is python comments"
   ]
  },
  {
   "cell_type": "code",
   "execution_count": 12,
   "id": "70367910",
   "metadata": {},
   "outputs": [
    {
     "name": "stdout",
     "output_type": "stream",
     "text": [
      "What is your name ?narendra\n"
     ]
    },
    {
     "data": {
      "text/plain": [
       "'narendra'"
      ]
     },
     "execution_count": 12,
     "metadata": {},
     "output_type": "execute_result"
    }
   ],
   "source": [
    "input(\"What is your name ?\")"
   ]
  },
  {
   "cell_type": "code",
   "execution_count": 13,
   "id": "e56cbb7f",
   "metadata": {},
   "outputs": [
    {
     "name": "stdout",
     "output_type": "stream",
     "text": [
      "what is your age ?22\n"
     ]
    }
   ],
   "source": [
    "name  = input(\"what is your age ?\")"
   ]
  },
  {
   "cell_type": "code",
   "execution_count": 14,
   "id": "2167223f",
   "metadata": {},
   "outputs": [
    {
     "data": {
      "text/plain": [
       "'22'"
      ]
     },
     "execution_count": 14,
     "metadata": {},
     "output_type": "execute_result"
    }
   ],
   "source": [
    "name"
   ]
  },
  {
   "cell_type": "code",
   "execution_count": 16,
   "id": "7f7a23f6",
   "metadata": {},
   "outputs": [
    {
     "name": "stdout",
     "output_type": "stream",
     "text": [
      "my age is 22\n"
     ]
    }
   ],
   "source": [
    "print(\"my age is \" + name)"
   ]
  },
  {
   "cell_type": "code",
   "execution_count": 20,
   "id": "e39431d4",
   "metadata": {},
   "outputs": [
    {
     "name": "stdout",
     "output_type": "stream",
     "text": [
      "what's the name of the person ?shyam\n"
     ]
    }
   ],
   "source": [
    "name = input(\"what's the name of the person ?\")"
   ]
  },
  {
   "cell_type": "code",
   "execution_count": 21,
   "id": "c62303b9",
   "metadata": {},
   "outputs": [
    {
     "name": "stdout",
     "output_type": "stream",
     "text": [
      "fav color?yellow\n"
     ]
    }
   ],
   "source": [
    "color = input(\"fav color?\")"
   ]
  },
  {
   "cell_type": "code",
   "execution_count": 22,
   "id": "40615619",
   "metadata": {},
   "outputs": [
    {
     "name": "stdout",
     "output_type": "stream",
     "text": [
      "shyam likes yellow\n"
     ]
    }
   ],
   "source": [
    "print(name +\" likes \"+ color)"
   ]
  },
  {
   "cell_type": "code",
   "execution_count": null,
   "id": "1a9bc563",
   "metadata": {},
   "outputs": [],
   "source": []
  }
 ],
 "metadata": {
  "kernelspec": {
   "display_name": "Python 3 (ipykernel)",
   "language": "python",
   "name": "python3"
  },
  "language_info": {
   "codemirror_mode": {
    "name": "ipython",
    "version": 3
   },
   "file_extension": ".py",
   "mimetype": "text/x-python",
   "name": "python",
   "nbconvert_exporter": "python",
   "pygments_lexer": "ipython3",
   "version": "3.9.7"
  }
 },
 "nbformat": 4,
 "nbformat_minor": 5
}
