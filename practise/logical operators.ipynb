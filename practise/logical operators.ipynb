{
 "cells": [
  {
   "cell_type": "code",
   "execution_count": 2,
   "id": "fbae07b3",
   "metadata": {},
   "outputs": [
    {
     "name": "stdout",
     "output_type": "stream",
     "text": [
      "Eligible for loan\n"
     ]
    }
   ],
   "source": [
    "has_high_income = True\n",
    "has_good_credit = True\n",
    "if has_high_income and has_good_credit:\n",
    "    print(\"Eligible for loan\")"
   ]
  },
  {
   "cell_type": "code",
   "execution_count": 5,
   "id": "4c942023",
   "metadata": {},
   "outputs": [
    {
     "name": "stdout",
     "output_type": "stream",
     "text": [
      "Not Eligible\n"
     ]
    }
   ],
   "source": [
    "has_high_income = False\n",
    "has_good_credit = False\n",
    "if has_high_income or has_good_credit:\n",
    "    print(\"Eligible for loan\")\n",
    "else:\n",
    "    print(\"Not Eligible\")"
   ]
  },
  {
   "cell_type": "code",
   "execution_count": 6,
   "id": "7d679ae5",
   "metadata": {},
   "outputs": [
    {
     "name": "stdout",
     "output_type": "stream",
     "text": [
      "Not Eligible\n"
     ]
    }
   ],
   "source": [
    "has_criminal_record = False\n",
    "has_good_credit = True\n",
    "if has_criminal_record and has_good_credit:\n",
    "    print(\"Eligible for loan\")\n",
    "else:\n",
    "    print(\"Not Eligible\")"
   ]
  },
  {
   "cell_type": "code",
   "execution_count": 9,
   "id": "93d8d543",
   "metadata": {},
   "outputs": [
    {
     "name": "stdout",
     "output_type": "stream",
     "text": [
      "Eligible for loan\n"
     ]
    }
   ],
   "source": [
    "has_criminal_record = True\n",
    "has_good_credit = False\n",
    "if has_criminal_record and not has_good_credit:\n",
    "    print(\"Eligible for loan\")\n",
    "else:\n",
    "    print(\"Not Eligible\")"
   ]
  },
  {
   "cell_type": "code",
   "execution_count": null,
   "id": "b90d90f2",
   "metadata": {},
   "outputs": [],
   "source": []
  }
 ],
 "metadata": {
  "kernelspec": {
   "display_name": "Python 3 (ipykernel)",
   "language": "python",
   "name": "python3"
  },
  "language_info": {
   "codemirror_mode": {
    "name": "ipython",
    "version": 3
   },
   "file_extension": ".py",
   "mimetype": "text/x-python",
   "name": "python",
   "nbconvert_exporter": "python",
   "pygments_lexer": "ipython3",
   "version": "3.9.7"
  }
 },
 "nbformat": 4,
 "nbformat_minor": 5
}
