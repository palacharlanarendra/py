{
 "cells": [
  {
   "cell_type": "markdown",
   "metadata": {},
   "source": [
    "# Session 2 - Assignment\n",
    "\n",
    "There are 2 questions to be solved. Some boilerplate code has been included to aid with the solution design, and instructions have been provided on how to go about solving the problem.\n",
    "\n",
    "At the bottom of each question is an evaluation section. When you run this section, you should get the results mentioned in comments at the right. If you do not, then something has gone wrong - find and fix the issue!"
   ]
  },
  {
   "cell_type": "markdown",
   "metadata": {},
   "source": [
    "## Pre-requisites"
   ]
  },
  {
   "cell_type": "markdown",
   "metadata": {},
   "source": [
    "### Imports & User Inputs"
   ]
  },
  {
   "cell_type": "code",
   "execution_count": null,
   "metadata": {
    "ExecuteTime": {
     "end_time": "2019-07-22T04:32:47.131522Z",
     "start_time": "2019-07-22T04:32:47.123999Z"
    }
   },
   "outputs": [],
   "source": [
    "import pandas as pd\n",
    "import os"
   ]
  },
  {
   "cell_type": "markdown",
   "metadata": {},
   "source": [
    "**Instruction**: Modify the below path to point to the \"pokemon.csv\" file"
   ]
  },
  {
   "cell_type": "code",
   "execution_count": 3,
   "metadata": {
    "ExecuteTime": {
     "end_time": "2019-07-22T04:32:47.131522Z",
     "start_time": "2019-07-22T04:32:47.123999Z"
    }
   },
   "outputs": [],
   "source": [
    "PATH_INPUT_POKEMON = r'Assignment_Input_Data\\pokemon.csv'"
   ]
  },
  {
   "cell_type": "markdown",
   "metadata": {},
   "source": [
    "### Read the dataset"
   ]
  },
  {
   "cell_type": "code",
   "execution_count": 7,
   "metadata": {
    "ExecuteTime": {
     "end_time": "2019-07-22T04:36:55.369212Z",
     "start_time": "2019-07-22T04:36:55.316169Z"
    }
   },
   "outputs": [
    {
     "data": {
      "text/html": [
       "<div>\n",
       "<style scoped>\n",
       "    .dataframe tbody tr th:only-of-type {\n",
       "        vertical-align: middle;\n",
       "    }\n",
       "\n",
       "    .dataframe tbody tr th {\n",
       "        vertical-align: top;\n",
       "    }\n",
       "\n",
       "    .dataframe thead th {\n",
       "        text-align: right;\n",
       "    }\n",
       "</style>\n",
       "<table border=\"1\" class=\"dataframe\">\n",
       "  <thead>\n",
       "    <tr style=\"text-align: right;\">\n",
       "      <th></th>\n",
       "      <th>#</th>\n",
       "      <th>Name</th>\n",
       "      <th>Type 1</th>\n",
       "      <th>Type 2</th>\n",
       "      <th>HP</th>\n",
       "      <th>Attack</th>\n",
       "      <th>Defense</th>\n",
       "      <th>Sp. Atk</th>\n",
       "      <th>Sp. Def</th>\n",
       "      <th>Speed</th>\n",
       "      <th>Generation</th>\n",
       "      <th>Legendary</th>\n",
       "    </tr>\n",
       "  </thead>\n",
       "  <tbody>\n",
       "    <tr>\n",
       "      <th>789</th>\n",
       "      <td>790</td>\n",
       "      <td>Avalugg</td>\n",
       "      <td>Ice</td>\n",
       "      <td>NaN</td>\n",
       "      <td>95</td>\n",
       "      <td>117</td>\n",
       "      <td>184</td>\n",
       "      <td>44</td>\n",
       "      <td>46</td>\n",
       "      <td>28</td>\n",
       "      <td>6</td>\n",
       "      <td>False</td>\n",
       "    </tr>\n",
       "    <tr>\n",
       "      <th>672</th>\n",
       "      <td>673</td>\n",
       "      <td>Fraxure</td>\n",
       "      <td>Dragon</td>\n",
       "      <td>NaN</td>\n",
       "      <td>66</td>\n",
       "      <td>117</td>\n",
       "      <td>70</td>\n",
       "      <td>40</td>\n",
       "      <td>50</td>\n",
       "      <td>67</td>\n",
       "      <td>5</td>\n",
       "      <td>False</td>\n",
       "    </tr>\n",
       "    <tr>\n",
       "      <th>97</th>\n",
       "      <td>98</td>\n",
       "      <td>Shellder</td>\n",
       "      <td>Water</td>\n",
       "      <td>NaN</td>\n",
       "      <td>30</td>\n",
       "      <td>65</td>\n",
       "      <td>100</td>\n",
       "      <td>45</td>\n",
       "      <td>25</td>\n",
       "      <td>40</td>\n",
       "      <td>1</td>\n",
       "      <td>False</td>\n",
       "    </tr>\n",
       "    <tr>\n",
       "      <th>71</th>\n",
       "      <td>72</td>\n",
       "      <td>Mega Alakazam</td>\n",
       "      <td>Psychic</td>\n",
       "      <td>NaN</td>\n",
       "      <td>55</td>\n",
       "      <td>50</td>\n",
       "      <td>65</td>\n",
       "      <td>175</td>\n",
       "      <td>95</td>\n",
       "      <td>150</td>\n",
       "      <td>1</td>\n",
       "      <td>False</td>\n",
       "    </tr>\n",
       "    <tr>\n",
       "      <th>42</th>\n",
       "      <td>43</td>\n",
       "      <td>Vulpix</td>\n",
       "      <td>Fire</td>\n",
       "      <td>NaN</td>\n",
       "      <td>38</td>\n",
       "      <td>41</td>\n",
       "      <td>40</td>\n",
       "      <td>50</td>\n",
       "      <td>65</td>\n",
       "      <td>65</td>\n",
       "      <td>1</td>\n",
       "      <td>False</td>\n",
       "    </tr>\n",
       "    <tr>\n",
       "      <th>725</th>\n",
       "      <td>726</td>\n",
       "      <td>Frogadier</td>\n",
       "      <td>Water</td>\n",
       "      <td>NaN</td>\n",
       "      <td>54</td>\n",
       "      <td>63</td>\n",
       "      <td>52</td>\n",
       "      <td>83</td>\n",
       "      <td>56</td>\n",
       "      <td>97</td>\n",
       "      <td>6</td>\n",
       "      <td>False</td>\n",
       "    </tr>\n",
       "    <tr>\n",
       "      <th>712</th>\n",
       "      <td>713</td>\n",
       "      <td>Kyurem White Kyurem</td>\n",
       "      <td>Dragon</td>\n",
       "      <td>Ice</td>\n",
       "      <td>125</td>\n",
       "      <td>120</td>\n",
       "      <td>90</td>\n",
       "      <td>170</td>\n",
       "      <td>100</td>\n",
       "      <td>95</td>\n",
       "      <td>5</td>\n",
       "      <td>True</td>\n",
       "    </tr>\n",
       "    <tr>\n",
       "      <th>60</th>\n",
       "      <td>61</td>\n",
       "      <td>Golduck</td>\n",
       "      <td>Water</td>\n",
       "      <td>NaN</td>\n",
       "      <td>80</td>\n",
       "      <td>82</td>\n",
       "      <td>78</td>\n",
       "      <td>95</td>\n",
       "      <td>80</td>\n",
       "      <td>85</td>\n",
       "      <td>1</td>\n",
       "      <td>False</td>\n",
       "    </tr>\n",
       "    <tr>\n",
       "      <th>221</th>\n",
       "      <td>222</td>\n",
       "      <td>Dunsparce</td>\n",
       "      <td>Normal</td>\n",
       "      <td>NaN</td>\n",
       "      <td>100</td>\n",
       "      <td>70</td>\n",
       "      <td>70</td>\n",
       "      <td>65</td>\n",
       "      <td>65</td>\n",
       "      <td>45</td>\n",
       "      <td>2</td>\n",
       "      <td>False</td>\n",
       "    </tr>\n",
       "    <tr>\n",
       "      <th>429</th>\n",
       "      <td>430</td>\n",
       "      <td>DeoxysAttack Forme</td>\n",
       "      <td>Psychic</td>\n",
       "      <td>NaN</td>\n",
       "      <td>50</td>\n",
       "      <td>180</td>\n",
       "      <td>20</td>\n",
       "      <td>180</td>\n",
       "      <td>20</td>\n",
       "      <td>150</td>\n",
       "      <td>3</td>\n",
       "      <td>True</td>\n",
       "    </tr>\n",
       "  </tbody>\n",
       "</table>\n",
       "</div>"
      ],
      "text/plain": [
       "       #                 Name   Type 1 Type 2   HP  Attack  Defense  Sp. Atk  \\\n",
       "789  790              Avalugg      Ice    NaN   95     117      184       44   \n",
       "672  673              Fraxure   Dragon    NaN   66     117       70       40   \n",
       "97    98             Shellder    Water    NaN   30      65      100       45   \n",
       "71    72        Mega Alakazam  Psychic    NaN   55      50       65      175   \n",
       "42    43               Vulpix     Fire    NaN   38      41       40       50   \n",
       "725  726            Frogadier    Water    NaN   54      63       52       83   \n",
       "712  713  Kyurem White Kyurem   Dragon    Ice  125     120       90      170   \n",
       "60    61              Golduck    Water    NaN   80      82       78       95   \n",
       "221  222            Dunsparce   Normal    NaN  100      70       70       65   \n",
       "429  430   DeoxysAttack Forme  Psychic    NaN   50     180       20      180   \n",
       "\n",
       "     Sp. Def  Speed  Generation  Legendary  \n",
       "789       46     28           6      False  \n",
       "672       50     67           5      False  \n",
       "97        25     40           1      False  \n",
       "71        95    150           1      False  \n",
       "42        65     65           1      False  \n",
       "725       56     97           6      False  \n",
       "712      100     95           5       True  \n",
       "60        80     85           1      False  \n",
       "221       65     45           2      False  \n",
       "429       20    150           3       True  "
      ]
     },
     "execution_count": 7,
     "metadata": {},
     "output_type": "execute_result"
    }
   ],
   "source": [
    "# Read the CSV File\n",
    "dataset_pokemon = pd.read_csv(PATH_INPUT_POKEMON)\n",
    "\n",
    "# Print 10 random rows from the data\n",
    "dataset_pokemon.sample(10)"
   ]
  },
  {
   "cell_type": "markdown",
   "metadata": {},
   "source": [
    "Understand the columns available in the file, and their data types"
   ]
  },
  {
   "cell_type": "code",
   "execution_count": 8,
   "metadata": {
    "ExecuteTime": {
     "end_time": "2019-07-22T04:37:04.854290Z",
     "start_time": "2019-07-22T04:37:04.826270Z"
    }
   },
   "outputs": [
    {
     "name": "stdout",
     "output_type": "stream",
     "text": [
      "<class 'pandas.core.frame.DataFrame'>\n",
      "RangeIndex: 800 entries, 0 to 799\n",
      "Data columns (total 12 columns):\n",
      "#             800 non-null int64\n",
      "Name          800 non-null object\n",
      "Type 1        800 non-null object\n",
      "Type 2        414 non-null object\n",
      "HP            800 non-null int64\n",
      "Attack        800 non-null int64\n",
      "Defense       800 non-null int64\n",
      "Sp. Atk       800 non-null int64\n",
      "Sp. Def       800 non-null int64\n",
      "Speed         800 non-null int64\n",
      "Generation    800 non-null int64\n",
      "Legendary     800 non-null bool\n",
      "dtypes: bool(1), int64(8), object(3)\n",
      "memory usage: 69.6+ KB\n"
     ]
    }
   ],
   "source": [
    "dataset_pokemon.info()"
   ]
  },
  {
   "cell_type": "markdown",
   "metadata": {},
   "source": [
    "## Question 1\n",
    "\n",
    "**Background:** The client is a forgetful pokemon trainer! He often forgets the name of pokemon. He has some thoughts like \n",
    "- I think the name starts with 'ch'\n",
    "- I'm pretty sure it ends with 'der'\n",
    "- I think it has the letter 'man' somewhere in the name\n",
    "\n",
    "**Task:** Write a function that takes in a \"partial_name\" of the pokemon, and returns a list of pokemon names that satisfy one or more of these 3 conditions. Here are the rules\n",
    "\n",
    "- Rules for the values partial_name can take:\n",
    "    - If the partial_name is \"man\", that means the name of the pokemon contains \"man\" somewhere\n",
    "    - If the partial_name is \"$char\", that means the name of the pokemon starts with \"char\"\n",
    "    - If the partial_name is \"der^\", that means the name of the pokemon ends with \"der\"\n",
    "    - For simplicity, assume that only one of the above 3 for any given function call (i.e., the client can't give the starting letters and ending letters in partial_name)\n",
    "    \n",
    "- What should the function return?\n",
    "    - Case 1: No pokemon found that match the criteria. The function should return the string \"Searched the pokemon database. No such Pokemon found\"\n",
    "    - Case 2: One or more pokemon found that match the criteria. The function should return a list, containing all the pokemon names that match the criteria set, and also print the number of search results found\n",
    "    - Case 3: No pokemon name provided as an input (Incorrect function call). The function should throw a ValueError\n",
    "    - Case 4: Multiple rules are provided as an input (Eg: \"$char^\"). The function should throw a ValueError"
   ]
  },
  {
   "cell_type": "markdown",
   "metadata": {},
   "source": [
    "### Writing the function"
   ]
  },
  {
   "cell_type": "code",
   "execution_count": 11,
   "metadata": {
    "ExecuteTime": {
     "end_time": "2019-07-22T05:04:42.863935Z",
     "start_time": "2019-07-22T05:04:42.849940Z"
    }
   },
   "outputs": [],
   "source": [
    "def get_list_of_possible_pokemon_names():\n",
    "    \"\"\"\n",
    "    Returns a list of possible pokemon names in lowercase\n",
    "    \"\"\"\n",
    "    list_pokemon_names = dataset_pokemon['Name'].to_list()\n",
    "    \n",
    "    # Convert each pokemon's name to lower-case and store the results in a variable called \"list_pokemon_names_cleaned\"\n",
    "    \n",
    "    #------------------------Insert Code Here-------------------------#\n",
    "    \n",
    "    \n",
    "    #--------------------------End of Code----------------------------#\n",
    "    \n",
    "    return list_pokemon_names_cleaned"
   ]
  },
  {
   "cell_type": "code",
   "execution_count": 15,
   "metadata": {
    "ExecuteTime": {
     "end_time": "2019-07-22T05:19:54.206176Z",
     "start_time": "2019-07-22T05:19:54.194168Z"
    }
   },
   "outputs": [],
   "source": [
    "def get_pokemon_names_from_partial_names(partial_name=None):\n",
    "    \"\"\"\n",
    "    A function that helps forgetful pokemon trainers identify pokemon whose names they just remember partially\n",
    "    \n",
    "    Parameters\n",
    "    ----------\n",
    "    partial_name : str\n",
    "        The partial name of the pokemon. Can contain at most one of the characters \"$\" and \"^\"\n",
    "    \n",
    "    Returns\n",
    "    -------\n",
    "    list :\n",
    "        A list of pokemon that meet the provided naming criteria\n",
    "    \"\"\"\n",
    "    \n",
    "    # Step 1: Get the list of possible pokemon names\n",
    "    list_pokemon_names_cleaned = get_list_of_possible_pokemon_names()\n",
    "    \n",
    "    # Step 2: Run checks to ensure that the pokemon partial name meet the requirements, and convert it to lowercase\n",
    "    \n",
    "    #------------------------Insert Code Here-------------------------#\n",
    "    \n",
    "    # Check if partial_name is None. if it is, throw a value error\n",
    "    \n",
    "    # Check if partial_name contains both \"$\" and \"^\". If so, throw an error\n",
    "    \n",
    "    # Convert the partial_name to lowercase\n",
    "    \n",
    "    #--------------------------End of Code----------------------------#\n",
    "    \n",
    "    \n",
    "    # Step 3: Identify whether the partial_name fits criteria 1, or 2 or 3, and store the results in a variable \"criteria\"\n",
    "    criteria = None\n",
    "    #------------------------Insert Code Here-------------------------#\n",
    "    \n",
    "    \n",
    "    #--------------------------End of Code----------------------------#\n",
    "    assert(criteria in (1,2,3)) # If it is not any of these, the function has been incorrectly written\n",
    "    \n",
    "    # Step 4: Based on the criteria, run a search through the list of pokemon and filter them based on our requirements, \n",
    "    # and store the results in a list called \"list_valid_pokemon\"\n",
    "    list_valid_pokemon = None\n",
    "    #------------------------Insert Code Here-------------------------#\n",
    "    \n",
    "    \n",
    "    #--------------------------End of Code----------------------------#\n",
    "      \n",
    "    \n",
    "    # Step 5: Return the results. \n",
    "    \n",
    "    # Case 1: If there are no matching pokemon, return the string \"Searched the pokemon database. No such Pokemon found\"\n",
    "    # Case 2: If there are 1 or more matching pokemon, \n",
    "    # print the number of results found in the format \"Number of pokemon meeting naming criteria: X\" where X is the number of pokemon found\n",
    "    # and return the list of pokemon names\n",
    "    \n",
    "    #------------------------Insert Code Here-------------------------#\n",
    "    \n",
    "    return list_valid_pokemon\n",
    "    #--------------------------End of Code----------------------------#\n",
    "    \n",
    "    "
   ]
  },
  {
   "cell_type": "markdown",
   "metadata": {},
   "source": [
    "### Evaluation :"
   ]
  },
  {
   "cell_type": "code",
   "execution_count": null,
   "metadata": {},
   "outputs": [],
   "source": [
    "get_pokemon_names_from_partial_names()# Should throw an error\n",
    "get_pokemon_names_from_partial_names(partial_name=\"Char\") # Should be a list of 6 elements - 'charmander, charmeleon, charizard, mega charizard x, mega charizard y, chimchar'\n",
    "get_pokemon_names_from_partial_names(partial_name=\"$Char\")# Should be a list of 3 elements - 'charmander, charmeleon, charizard'\n",
    "get_pokemon_names_from_partial_names(partial_name=\"Char^\")# Should be a list of 1 element - 'chimchar'\n",
    "get_pokemon_names_from_partial_names(partial_name=\"$Char^\")# Should throw an error"
   ]
  },
  {
   "cell_type": "markdown",
   "metadata": {},
   "source": [
    "## Question 2\n",
    "\n",
    "**Background:** Oftentimes, pokemon trainers like having a diverse set of pokemon in their collection, i.e., each of their pokemon are as different from others as possible. The difference between 2 pokemon can be quantified on the following criteria:\n",
    "\n",
    "- *Name* - $$Distance=\\frac{Number\\ of\\ unique\\ characters\\ different\\ between\\ the\\ 2\\ names}{Number\\ of\\ unique\\ characters\\ in\\ the\\ 2\\ names}*255$$\n",
    "- *Type 1* - If a match, difference is 0. Else 255\n",
    "- *Type 2* - If a match, difference is 0. Else 255\n",
    "- *HP* - Difference between the 2 values\n",
    "- *Attack* - Difference between the 2 values\n",
    "- *Defense* - Difference between the 2 values\n",
    "- *Sp. Atk* - Difference between the 2 values\n",
    "- *Sp. Def* - Difference between the 2 values\n",
    "- *Speed* - Difference between the 2 values\n",
    "- *Generation* - If a match, difference is 0. Else $$Difference = \\frac{255}{6-ABS(Difference\\ between\\ values)}$$\n",
    "- *Legendary* - If a match, difference is 0. Else 255\n",
    "\n",
    "\n",
    "**Task:** Write a function that calculates the difference between any 2 pokemon"
   ]
  },
  {
   "cell_type": "markdown",
   "metadata": {},
   "source": [
    "### Writing the function"
   ]
  },
  {
   "cell_type": "markdown",
   "metadata": {},
   "source": [
    "Helper function to get stats for a pokemon"
   ]
  },
  {
   "cell_type": "code",
   "execution_count": 56,
   "metadata": {
    "ExecuteTime": {
     "end_time": "2019-07-22T06:00:10.259145Z",
     "start_time": "2019-07-22T06:00:10.251140Z"
    }
   },
   "outputs": [],
   "source": [
    "def get_pokemon_stats(pokemon_name):\n",
    "    \"\"\"\n",
    "    Get a pokemon's stats in the form of a dictionary\n",
    "    \n",
    "    Parameters\n",
    "    ----------\n",
    "    pokemon_name : str\n",
    "        Name of the pokemon whose statistics are required. Should be a complete name, and a valid pokemon\n",
    "    \n",
    "    Returns\n",
    "    -------\n",
    "    dict : \n",
    "        A dictionary of (stat_name, value ) containing the mappings of the pokemon's stat types (Name, HP, Speed etc) as keys to their respective values\n",
    "    \n",
    "    Example\n",
    "    -------\n",
    "    get_pokemon_stats('Charmander')\n",
    "    \"\"\"\n",
    "    # Get a list of valid pokemon names\n",
    "    list_valid_pokemon = dataset_pokemon.copy().drop(columns=\"#\")\n",
    "    list_valid_pokemon.loc[:,'Name'] = list_valid_pokemon['Name'].str.lower()\n",
    "        \n",
    "    # Convert the name to lower case\n",
    "    pokemon_name = pokemon_name.lower()\n",
    "    \n",
    "    # Find the pokemon's entry in our pokemon database\n",
    "    result = list_valid_pokemon[list_valid_pokemon['Name']==pokemon_name]\n",
    "    \n",
    "    # Throw an error if the database does not contain the pokemon\n",
    "    if result.shape[0] == 0:\n",
    "        raise ValueError(\"Incorrect Pokemon name provided. Name not present in the database\")\n",
    "    \n",
    "    # Return results\n",
    "    return result.to_dict('records')[0]"
   ]
  },
  {
   "cell_type": "code",
   "execution_count": 62,
   "metadata": {
    "ExecuteTime": {
     "end_time": "2019-07-22T06:14:31.343544Z",
     "start_time": "2019-07-22T06:14:31.324533Z"
    }
   },
   "outputs": [],
   "source": [
    "def get_difference_between_2_pokemon(pokemon_name_1, pokemon_name_2):\n",
    "    \"\"\"\n",
    "    Quantifies the difference between any 2 pokemon\n",
    "    \n",
    "    Parameters\n",
    "    ----------\n",
    "    pokemon_name_1 : str\n",
    "        Name of the first pokemon to be used for comparison\n",
    "    pokemon_name_2 : str\n",
    "        Name of the second pokemon to be used for comparison\n",
    "        \n",
    "    Returns\n",
    "    -------\n",
    "    int : \n",
    "        Difference between the 2 pokemon, quantified\n",
    "    \"\"\"\n",
    "\n",
    "    # Get the stats for each of the 2 pokemon\n",
    "    stats_pokemon_1 = get_pokemon_stats(pokemon_name_1)\n",
    "    stats_pokemon_2 = get_pokemon_stats(pokemon_name_2)\n",
    "\n",
    "    # Store the result of the difference identified in a variable called \"result_difference_total\"\n",
    "    result_difference_total = 0\n",
    "\n",
    "    # Step 1: Quantify the difference based on the Pokemon's names (Look at the instructions provided to understand how to do this)\n",
    "    # and store the result in the variable 'result_difference_name'\n",
    "    result_difference_name = 0\n",
    "\n",
    "    #------------------------Insert Code Here-------------------------#\n",
    "    name_1 = stats_pokemon_1['Name']\n",
    "    name_2 = stats_pokemon_2['Name']\n",
    "\n",
    "    #--------------------------End of Code----------------------------#\n",
    "    result_difference_total = result_difference_total + result_difference_name\n",
    "\n",
    "    # Step 2: Quantify the difference based on the Pokemon's Type 1, Type 2, Generation and Legendary Status and store the results in the below variables\n",
    "    result_difference_type_1 = 0\n",
    "    result_difference_type_2 = 0\n",
    "    result_difference_generation = 0\n",
    "    result_difference_legendary = 0\n",
    "\n",
    "    #------------------------Insert Code Here-------------------------#\n",
    "\n",
    "    #--------------------------End of Code----------------------------#\n",
    "    result_difference_total = result_difference_total + result_difference_type_1 + result_difference_type_2 + result_difference_generation + result_difference_legendary\n",
    "\n",
    "    # Step 3: Quantify the difference based on the remaining stats\n",
    "    result_difference_hp = 0\n",
    "    result_difference_attack = 0\n",
    "    result_difference_defense = 0\n",
    "    result_difference_sp_atk = 0\n",
    "    result_difference_sp_def = 0\n",
    "    result_difference_speed = 0\n",
    "\n",
    "    #------------------------Insert Code Here-------------------------#\n",
    "\n",
    "    #--------------------------End of Code----------------------------#\n",
    "    result_difference_total = result_difference_total + result_difference_hp + result_difference_attack + result_difference_defense + result_difference_sp_atk + result_difference_sp_def + result_difference_speed\n",
    "    \n",
    "    # Step 4: Return the results\n",
    "    return result_difference_total"
   ]
  }
 ],
 "metadata": {
  "kernelspec": {
   "display_name": "Python 3",
   "language": "python",
   "name": "python3"
  },
  "language_info": {
   "codemirror_mode": {
    "name": "ipython",
    "version": 3
   },
   "file_extension": ".py",
   "mimetype": "text/x-python",
   "name": "python",
   "nbconvert_exporter": "python",
   "pygments_lexer": "ipython3",
   "version": "3.7.0"
  },
  "toc": {
   "base_numbering": 1,
   "nav_menu": {},
   "number_sections": true,
   "sideBar": true,
   "skip_h1_title": true,
   "title_cell": "Table of Contents",
   "title_sidebar": "Contents",
   "toc_cell": false,
   "toc_position": {},
   "toc_section_display": true,
   "toc_window_display": true
  },
  "varInspector": {
   "cols": {
    "lenName": 16,
    "lenType": 16,
    "lenVar": 40
   },
   "kernels_config": {
    "python": {
     "delete_cmd_postfix": "",
     "delete_cmd_prefix": "del ",
     "library": "var_list.py",
     "varRefreshCmd": "print(var_dic_list())"
    },
    "r": {
     "delete_cmd_postfix": ") ",
     "delete_cmd_prefix": "rm(",
     "library": "var_list.r",
     "varRefreshCmd": "cat(var_dic_list()) "
    }
   },
   "types_to_exclude": [
    "module",
    "function",
    "builtin_function_or_method",
    "instance",
    "_Feature"
   ],
   "window_display": false
  }
 },
 "nbformat": 4,
 "nbformat_minor": 2
}
