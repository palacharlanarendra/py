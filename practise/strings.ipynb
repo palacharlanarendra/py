{
 "cells": [
  {
   "cell_type": "code",
   "execution_count": 5,
   "id": "bc56b887",
   "metadata": {},
   "outputs": [],
   "source": [
    "course  = \"python's course for beginners\""
   ]
  },
  {
   "cell_type": "code",
   "execution_count": 3,
   "id": "c2a19856",
   "metadata": {},
   "outputs": [
    {
     "data": {
      "text/plain": [
       "'pythons course for beginners'"
      ]
     },
     "execution_count": 3,
     "metadata": {},
     "output_type": "execute_result"
    }
   ],
   "source": [
    "course"
   ]
  },
  {
   "cell_type": "code",
   "execution_count": 4,
   "id": "f9e0e672",
   "metadata": {},
   "outputs": [
    {
     "name": "stdout",
     "output_type": "stream",
     "text": [
      "pythons course for beginners\n"
     ]
    }
   ],
   "source": [
    "print(course)"
   ]
  },
  {
   "cell_type": "code",
   "execution_count": 6,
   "id": "be8ff523",
   "metadata": {},
   "outputs": [
    {
     "data": {
      "text/plain": [
       "\"python's course for beginners\""
      ]
     },
     "execution_count": 6,
     "metadata": {},
     "output_type": "execute_result"
    }
   ],
   "source": [
    "course"
   ]
  },
  {
   "cell_type": "code",
   "execution_count": 7,
   "id": "3cb18141",
   "metadata": {},
   "outputs": [],
   "source": [
    "course_new = 'Python is powerful!'"
   ]
  },
  {
   "cell_type": "code",
   "execution_count": 8,
   "id": "52b64d90",
   "metadata": {},
   "outputs": [
    {
     "data": {
      "text/plain": [
       "'P'"
      ]
     },
     "execution_count": 8,
     "metadata": {},
     "output_type": "execute_result"
    }
   ],
   "source": [
    "course_new[0]"
   ]
  },
  {
   "cell_type": "code",
   "execution_count": 9,
   "id": "1fe5efe5",
   "metadata": {},
   "outputs": [],
   "source": [
    "multi   = '''hello\n",
    "\n",
    "this is narendra \n",
    "\n",
    "'''"
   ]
  },
  {
   "cell_type": "code",
   "execution_count": 10,
   "id": "018a60c2",
   "metadata": {},
   "outputs": [
    {
     "data": {
      "text/plain": [
       "'hello\\n\\nthis is narendra \\n\\n'"
      ]
     },
     "execution_count": 10,
     "metadata": {},
     "output_type": "execute_result"
    }
   ],
   "source": [
    "multi\n"
   ]
  },
  {
   "cell_type": "code",
   "execution_count": 11,
   "id": "8d99ee36",
   "metadata": {},
   "outputs": [
    {
     "data": {
      "text/plain": [
       "'pyt'"
      ]
     },
     "execution_count": 11,
     "metadata": {},
     "output_type": "execute_result"
    }
   ],
   "source": [
    "course[0:3]"
   ]
  },
  {
   "cell_type": "code",
   "execution_count": 16,
   "id": "366e75e7",
   "metadata": {},
   "outputs": [
    {
     "data": {
      "text/plain": [
       "''"
      ]
     },
     "execution_count": 16,
     "metadata": {},
     "output_type": "execute_result"
    }
   ],
   "source": [
    "course[-1:-3]"
   ]
  },
  {
   "cell_type": "code",
   "execution_count": 13,
   "id": "fee16dba",
   "metadata": {},
   "outputs": [
    {
     "data": {
      "text/plain": [
       "'pytho'"
      ]
     },
     "execution_count": 13,
     "metadata": {},
     "output_type": "execute_result"
    }
   ],
   "source": [
    "course[0:5]"
   ]
  },
  {
   "cell_type": "code",
   "execution_count": 14,
   "id": "207248cd",
   "metadata": {},
   "outputs": [
    {
     "data": {
      "text/plain": [
       "\"python's course for beginners\""
      ]
     },
     "execution_count": 14,
     "metadata": {},
     "output_type": "execute_result"
    }
   ],
   "source": [
    "course[:]"
   ]
  },
  {
   "cell_type": "code",
   "execution_count": 15,
   "id": "fce4abf2",
   "metadata": {},
   "outputs": [
    {
     "data": {
      "text/plain": [
       "'s'"
      ]
     },
     "execution_count": 15,
     "metadata": {},
     "output_type": "execute_result"
    }
   ],
   "source": [
    "course[-1:]"
   ]
  },
  {
   "cell_type": "code",
   "execution_count": 17,
   "id": "5fccdc58",
   "metadata": {},
   "outputs": [],
   "source": [
    "name = \"jennifer\""
   ]
  },
  {
   "cell_type": "code",
   "execution_count": 18,
   "id": "3ae4af2a",
   "metadata": {},
   "outputs": [
    {
     "data": {
      "text/plain": [
       "'jennifer'"
      ]
     },
     "execution_count": 18,
     "metadata": {},
     "output_type": "execute_result"
    }
   ],
   "source": [
    "name"
   ]
  },
  {
   "cell_type": "code",
   "execution_count": 19,
   "id": "43798706",
   "metadata": {},
   "outputs": [
    {
     "name": "stdout",
     "output_type": "stream",
     "text": [
      "ennife\n"
     ]
    }
   ],
   "source": [
    "print(name[1:-1])"
   ]
  },
  {
   "cell_type": "code",
   "execution_count": null,
   "id": "73f0d831",
   "metadata": {},
   "outputs": [],
   "source": []
  }
 ],
 "metadata": {
  "kernelspec": {
   "display_name": "Python 3 (ipykernel)",
   "language": "python",
   "name": "python3"
  },
  "language_info": {
   "codemirror_mode": {
    "name": "ipython",
    "version": 3
   },
   "file_extension": ".py",
   "mimetype": "text/x-python",
   "name": "python",
   "nbconvert_exporter": "python",
   "pygments_lexer": "ipython3",
   "version": "3.9.7"
  }
 },
 "nbformat": 4,
 "nbformat_minor": 5
}
