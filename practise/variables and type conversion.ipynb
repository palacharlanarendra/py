{
 "cells": [
  {
   "cell_type": "code",
   "execution_count": 2,
   "id": "02b3ccf2",
   "metadata": {},
   "outputs": [],
   "source": [
    "full_name = \"narendra\"\n",
    "age = 20\n",
    "is_new = True"
   ]
  },
  {
   "cell_type": "code",
   "execution_count": 3,
   "id": "007494cd",
   "metadata": {},
   "outputs": [
    {
     "name": "stdout",
     "output_type": "stream",
     "text": [
      "Birth year: 1992\n"
     ]
    }
   ],
   "source": [
    "birth_year  = input(\"Birth year: \")"
   ]
  },
  {
   "cell_type": "code",
   "execution_count": 7,
   "id": "7bdbef47",
   "metadata": {},
   "outputs": [],
   "source": [
    "age  = 2021 - int(birth_year)"
   ]
  },
  {
   "cell_type": "code",
   "execution_count": 6,
   "id": "a877cbad",
   "metadata": {},
   "outputs": [
    {
     "data": {
      "text/plain": [
       "20"
      ]
     },
     "execution_count": 6,
     "metadata": {},
     "output_type": "execute_result"
    }
   ],
   "source": [
    "age"
   ]
  },
  {
   "cell_type": "code",
   "execution_count": 8,
   "id": "5f5c62f3",
   "metadata": {},
   "outputs": [
    {
     "data": {
      "text/plain": [
       "29"
      ]
     },
     "execution_count": 8,
     "metadata": {},
     "output_type": "execute_result"
    }
   ],
   "source": [
    "age"
   ]
  },
  {
   "cell_type": "code",
   "execution_count": 9,
   "id": "34da81b8",
   "metadata": {},
   "outputs": [
    {
     "name": "stdout",
     "output_type": "stream",
     "text": [
      "<class 'str'>\n"
     ]
    }
   ],
   "source": [
    "print(type(birth_year))"
   ]
  },
  {
   "cell_type": "code",
   "execution_count": 10,
   "id": "267d52a5",
   "metadata": {},
   "outputs": [
    {
     "name": "stdout",
     "output_type": "stream",
     "text": [
      "<class 'int'>\n"
     ]
    }
   ],
   "source": [
    "print(type(age))"
   ]
  },
  {
   "cell_type": "code",
   "execution_count": 16,
   "id": "8a0eeec8",
   "metadata": {},
   "outputs": [
    {
     "name": "stdout",
     "output_type": "stream",
     "text": [
      "what is your weight in kgs ?75\n"
     ]
    }
   ],
   "source": [
    "user_weight = input(\"what is your weight in kgs ?\")"
   ]
  },
  {
   "cell_type": "code",
   "execution_count": 17,
   "id": "c7af9284",
   "metadata": {},
   "outputs": [
    {
     "name": "stdout",
     "output_type": "stream",
     "text": [
      "165.0\n"
     ]
    }
   ],
   "source": [
    "pounds = float(user_weight) * 2.2\n",
    "print(pounds)"
   ]
  },
  {
   "cell_type": "code",
   "execution_count": 19,
   "id": "c111031f",
   "metadata": {},
   "outputs": [
    {
     "name": "stdout",
     "output_type": "stream",
     "text": [
      "weight in lbs: 165\n",
      "74.25\n"
     ]
    }
   ],
   "source": [
    "weight_lbs = input(\"weight in lbs: \")\n",
    "weight_kg = float(weight_lbs) * 0.45\n",
    "print(weight_kg)"
   ]
  },
  {
   "cell_type": "code",
   "execution_count": null,
   "id": "6f3b8b7c",
   "metadata": {},
   "outputs": [],
   "source": []
  }
 ],
 "metadata": {
  "kernelspec": {
   "display_name": "Python 3 (ipykernel)",
   "language": "python",
   "name": "python3"
  },
  "language_info": {
   "codemirror_mode": {
    "name": "ipython",
    "version": 3
   },
   "file_extension": ".py",
   "mimetype": "text/x-python",
   "name": "python",
   "nbconvert_exporter": "python",
   "pygments_lexer": "ipython3",
   "version": "3.9.7"
  }
 },
 "nbformat": 4,
 "nbformat_minor": 5
}
