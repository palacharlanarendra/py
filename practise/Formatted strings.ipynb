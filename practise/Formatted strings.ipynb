{
 "cells": [
  {
   "cell_type": "code",
   "execution_count": 1,
   "id": "f0e98bf0",
   "metadata": {},
   "outputs": [],
   "source": [
    "first  = \"John\""
   ]
  },
  {
   "cell_type": "code",
   "execution_count": 2,
   "id": "c6a9b69c",
   "metadata": {},
   "outputs": [],
   "source": [
    "last  = \"smith\""
   ]
  },
  {
   "cell_type": "code",
   "execution_count": 3,
   "id": "0a52a8c1",
   "metadata": {},
   "outputs": [],
   "source": [
    " message =  first + \" \" + last + \" is a coder\" "
   ]
  },
  {
   "cell_type": "code",
   "execution_count": 4,
   "id": "92b58a2a",
   "metadata": {},
   "outputs": [
    {
     "data": {
      "text/plain": [
       "'John smith is a coder'"
      ]
     },
     "execution_count": 4,
     "metadata": {},
     "output_type": "execute_result"
    }
   ],
   "source": [
    "message"
   ]
  },
  {
   "cell_type": "code",
   "execution_count": 7,
   "id": "1611588b",
   "metadata": {},
   "outputs": [],
   "source": [
    "msg =  f'{first} {last} is a coder'"
   ]
  },
  {
   "cell_type": "code",
   "execution_count": 8,
   "id": "117297f9",
   "metadata": {},
   "outputs": [
    {
     "data": {
      "text/plain": [
       "'John smith is a coder'"
      ]
     },
     "execution_count": 8,
     "metadata": {},
     "output_type": "execute_result"
    }
   ],
   "source": [
    "msg"
   ]
  },
  {
   "cell_type": "code",
   "execution_count": 9,
   "id": "68f6315b",
   "metadata": {},
   "outputs": [
    {
     "name": "stdout",
     "output_type": "stream",
     "text": [
      "21\n"
     ]
    }
   ],
   "source": [
    "print(len(msg))"
   ]
  },
  {
   "cell_type": "code",
   "execution_count": 10,
   "id": "e008f520",
   "metadata": {},
   "outputs": [
    {
     "data": {
      "text/plain": [
       "'JOHN SMITH IS A CODER'"
      ]
     },
     "execution_count": 10,
     "metadata": {},
     "output_type": "execute_result"
    }
   ],
   "source": [
    "msg.upper()"
   ]
  },
  {
   "cell_type": "code",
   "execution_count": 11,
   "id": "ed9fb12f",
   "metadata": {},
   "outputs": [
    {
     "data": {
      "text/plain": [
       "'john smith is a coder'"
      ]
     },
     "execution_count": 11,
     "metadata": {},
     "output_type": "execute_result"
    }
   ],
   "source": [
    "msg.lower()"
   ]
  },
  {
   "cell_type": "code",
   "execution_count": 12,
   "id": "0b7ff566",
   "metadata": {},
   "outputs": [
    {
     "name": "stdout",
     "output_type": "stream",
     "text": [
      "-1\n"
     ]
    }
   ],
   "source": [
    "print(msg.find('j'))"
   ]
  },
  {
   "cell_type": "code",
   "execution_count": 13,
   "id": "0d470c37",
   "metadata": {},
   "outputs": [
    {
     "name": "stdout",
     "output_type": "stream",
     "text": [
      "0\n"
     ]
    }
   ],
   "source": [
    "print(msg.find('J'))"
   ]
  },
  {
   "cell_type": "code",
   "execution_count": 14,
   "id": "618de895",
   "metadata": {},
   "outputs": [
    {
     "name": "stdout",
     "output_type": "stream",
     "text": [
      "-1\n"
     ]
    }
   ],
   "source": [
    "print(msg.find('Coder'))"
   ]
  },
  {
   "cell_type": "code",
   "execution_count": 15,
   "id": "fee7adcf",
   "metadata": {},
   "outputs": [
    {
     "name": "stdout",
     "output_type": "stream",
     "text": [
      "16\n"
     ]
    }
   ],
   "source": [
    "print(msg.find('coder'))"
   ]
  },
  {
   "cell_type": "code",
   "execution_count": 16,
   "id": "57c7b0c0",
   "metadata": {},
   "outputs": [
    {
     "data": {
      "text/plain": [
       "'John smwth ws a coder'"
      ]
     },
     "execution_count": 16,
     "metadata": {},
     "output_type": "execute_result"
    }
   ],
   "source": [
    "msg.replace('i','w')"
   ]
  },
  {
   "cell_type": "code",
   "execution_count": 17,
   "id": "6b6825f9",
   "metadata": {},
   "outputs": [
    {
     "data": {
      "text/plain": [
       "True"
      ]
     },
     "execution_count": 17,
     "metadata": {},
     "output_type": "execute_result"
    }
   ],
   "source": [
    "'coder' in msg"
   ]
  },
  {
   "cell_type": "code",
   "execution_count": 18,
   "id": "74f2427e",
   "metadata": {},
   "outputs": [
    {
     "data": {
      "text/plain": [
       "False"
      ]
     },
     "execution_count": 18,
     "metadata": {},
     "output_type": "execute_result"
    }
   ],
   "source": [
    "'...' in msg"
   ]
  },
  {
   "cell_type": "code",
   "execution_count": null,
   "id": "a536f110",
   "metadata": {},
   "outputs": [],
   "source": []
  }
 ],
 "metadata": {
  "kernelspec": {
   "display_name": "Python 3 (ipykernel)",
   "language": "python",
   "name": "python3"
  },
  "language_info": {
   "codemirror_mode": {
    "name": "ipython",
    "version": 3
   },
   "file_extension": ".py",
   "mimetype": "text/x-python",
   "name": "python",
   "nbconvert_exporter": "python",
   "pygments_lexer": "ipython3",
   "version": "3.9.7"
  }
 },
 "nbformat": 4,
 "nbformat_minor": 5
}
