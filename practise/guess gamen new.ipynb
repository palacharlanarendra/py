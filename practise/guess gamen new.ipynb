{
 "cells": [
  {
   "cell_type": "code",
   "execution_count": 3,
   "id": "30b705c9",
   "metadata": {},
   "outputs": [
    {
     "name": "stdout",
     "output_type": "stream",
     "text": [
      "Guess: 7\n",
      "Guess: 9\n",
      "you won!\n"
     ]
    }
   ],
   "source": [
    "secret_number  = 9 \n",
    "guess_count = 0 \n",
    "guess_limit = 3\n",
    "while guess_count<guess_limit:\n",
    "    guess = int(input('Guess: '))\n",
    "    guess_count+=1\n",
    "    if guess == secret_number:\n",
    "        print('you won!')\n",
    "        break\n",
    "else:\n",
    "    print('you lost!')"
   ]
  },
  {
   "cell_type": "code",
   "execution_count": null,
   "id": "312a88cc",
   "metadata": {},
   "outputs": [],
   "source": []
  }
 ],
 "metadata": {
  "kernelspec": {
   "display_name": "Python 3 (ipykernel)",
   "language": "python",
   "name": "python3"
  },
  "language_info": {
   "codemirror_mode": {
    "name": "ipython",
    "version": 3
   },
   "file_extension": ".py",
   "mimetype": "text/x-python",
   "name": "python",
   "nbconvert_exporter": "python",
   "pygments_lexer": "ipython3",
   "version": "3.9.7"
  }
 },
 "nbformat": 4,
 "nbformat_minor": 5
}
