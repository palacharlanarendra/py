{
 "cells": [
  {
   "cell_type": "code",
   "execution_count": null,
   "id": "3c3d1654",
   "metadata": {},
   "outputs": [],
   "source": [
    "secret_number  = 9 \n",
    "guess_count = 0 \n",
    "guess_limit = 3\n",
    "while guess_count<guess_limit:\n",
    "    guess = int(input('Guess: '))\n",
    "    guess_count+=1\n",
    "    if guess == secret_number:\n",
    "        print('you won!')\n",
    "        break\n",
    "else:\n",
    "    print('you lost!')"
   ]
  },
  {
   "cell_type": "code",
   "execution_count": null,
   "id": "6adac699",
   "metadata": {},
   "outputs": [],
   "source": []
  }
 ],
 "metadata": {
  "kernelspec": {
   "display_name": "Python 3 (ipykernel)",
   "language": "python",
   "name": "python3"
  },
  "language_info": {
   "codemirror_mode": {
    "name": "ipython",
    "version": 3
   },
   "file_extension": ".py",
   "mimetype": "text/x-python",
   "name": "python",
   "nbconvert_exporter": "python",
   "pygments_lexer": "ipython3",
   "version": "3.9.7"
  }
 },
 "nbformat": 4,
 "nbformat_minor": 5
}
