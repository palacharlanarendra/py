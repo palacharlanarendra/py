{
 "cells": [
  {
   "cell_type": "code",
   "execution_count": 5,
   "id": "f052dffa",
   "metadata": {},
   "outputs": [
    {
     "name": "stdout",
     "output_type": "stream",
     "text": [
      "weight bol: 72\n",
      "units bol: l\n",
      "In lb's 158.7312\n"
     ]
    }
   ],
   "source": [
    "#weight converter\n",
    "weight = input(\"weight bol: \")\n",
    "unit  = input(\"units bol: \")\n",
    "\n",
    "if(unit.lower()=='k'):\n",
    "    final = int(weight)/2.2046\n",
    "    print(f\"In kg's {final}\")\n",
    "elif(unit.lower()=='l'):\n",
    "    final = int(weight)*2.2046\n",
    "    print(f\"In lb's {final}\")\n",
    "else:\n",
    "    print('you enetered a wrong inwput')"
   ]
  },
  {
   "cell_type": "code",
   "execution_count": 6,
   "id": "1025e10d",
   "metadata": {},
   "outputs": [
    {
     "name": "stdout",
     "output_type": "stream",
     "text": [
      "1\n",
      "2\n",
      "3\n",
      "4\n",
      "5\n",
      "Done\n"
     ]
    }
   ],
   "source": [
    "i=1\n",
    "while i<=5:\n",
    "    print(i)\n",
    "    i+=1\n",
    "print(\"Done\")"
   ]
  },
  {
   "cell_type": "code",
   "execution_count": 7,
   "id": "c436b7dc",
   "metadata": {},
   "outputs": [
    {
     "name": "stdout",
     "output_type": "stream",
     "text": [
      "*\n",
      "**\n",
      "***\n",
      "****\n",
      "*****\n"
     ]
    }
   ],
   "source": [
    "i = 1\n",
    "while(i<=5):\n",
    "    print('*'*i)\n",
    "    i+=1"
   ]
  }
 ],
 "metadata": {
  "kernelspec": {
   "display_name": "Python 3 (ipykernel)",
   "language": "python",
   "name": "python3"
  },
  "language_info": {
   "codemirror_mode": {
    "name": "ipython",
    "version": 3
   },
   "file_extension": ".py",
   "mimetype": "text/x-python",
   "name": "python",
   "nbconvert_exporter": "python",
   "pygments_lexer": "ipython3",
   "version": "3.9.7"
  }
 },
 "nbformat": 4,
 "nbformat_minor": 5
}
