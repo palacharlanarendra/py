{
 "cells": [
  {
   "cell_type": "code",
   "execution_count": 1,
   "id": "ae45baec",
   "metadata": {},
   "outputs": [
    {
     "name": "stdout",
     "output_type": "stream",
     "text": [
      "3.3333333333333335\n"
     ]
    }
   ],
   "source": [
    "print(10/3)"
   ]
  },
  {
   "cell_type": "code",
   "execution_count": 4,
   "id": "956a9724",
   "metadata": {},
   "outputs": [
    {
     "name": "stdout",
     "output_type": "stream",
     "text": [
      "3\n"
     ]
    }
   ],
   "source": [
    "print(10//3)"
   ]
  },
  {
   "cell_type": "code",
   "execution_count": 5,
   "id": "3278ede8",
   "metadata": {},
   "outputs": [
    {
     "name": "stdout",
     "output_type": "stream",
     "text": [
      "1000\n"
     ]
    }
   ],
   "source": [
    "print(10**3)"
   ]
  },
  {
   "cell_type": "code",
   "execution_count": 6,
   "id": "81248a8e",
   "metadata": {},
   "outputs": [
    {
     "name": "stdout",
     "output_type": "stream",
     "text": [
      "30\n"
     ]
    }
   ],
   "source": [
    "print(10*3)"
   ]
  },
  {
   "cell_type": "code",
   "execution_count": 8,
   "id": "886df8f4",
   "metadata": {},
   "outputs": [
    {
     "name": "stdout",
     "output_type": "stream",
     "text": [
      "16\n"
     ]
    }
   ],
   "source": [
    "x =10\n",
    "x= x+3\n",
    "x+=3\n",
    "print(x)"
   ]
  },
  {
   "cell_type": "code",
   "execution_count": 6,
   "id": "7dc34b20",
   "metadata": {},
   "outputs": [
    {
     "name": "stdout",
     "output_type": "stream",
     "text": [
      "put down 10%\n",
      "900000.0\n",
      "end of the program\n"
     ]
    }
   ],
   "source": [
    "good_credit = True\n",
    "if good_credit:\n",
    "    print(\"put down 10%\")\n",
    "    print(1000000-(1000000*(10/100)))\n",
    "else:\n",
    "    print(\"put down 20%\")\n",
    "    print(1000000-(1000000*(20/100)))\n",
    "print(\"end of the program\")\n",
    "Jupyter Notebook\n",
    "Formatted strings"
   ]
  },
  {
   "cell_type": "code",
   "execution_count": 7,
   "id": "bf204f02",
   "metadata": {},
   "outputs": [
    {
     "name": "stdout",
     "output_type": "stream",
     "text": [
      "put down 20%\n",
      "800000.0\n",
      "end of the program\n"
     ]
    }
   ],
   "source": [
    "good_credit = False\n",
    "if good_credit:\n",
    "    print(\"put down 10%\")\n",
    "    print(1000000-(1000000*(10/100)))\n",
    "else:\n",
    "    print(\"put down 20%\")\n",
    "    print(1000000-(1000000*(20/100)))\n",
    "print(\"end of the program\")"
   ]
  },
  {
   "cell_type": "code",
   "execution_count": 10,
   "id": "a3bbc435",
   "metadata": {},
   "outputs": [
    {
     "name": "stdout",
     "output_type": "stream",
     "text": [
      "down payment is $200000.0\n"
     ]
    }
   ],
   "source": [
    "price = 1000000\n",
    "has_good_credit = False\n",
    "if has_good_credit:\n",
    "    down_payment = 0.1*price\n",
    "else:\n",
    "    down_payment = 0.2*price\n",
    "print(f\"down payment is ${down_payment}\")"
   ]
  },
  {
   "cell_type": "code",
   "execution_count": null,
   "id": "d07c8bcc",
   "metadata": {},
   "outputs": [],
   "source": []
  }
 ],
 "metadata": {
  "kernelspec": {
   "display_name": "Python 3 (ipykernel)",
   "language": "python",
   "name": "python3"
  },
  "language_info": {
   "codemirror_mode": {
    "name": "ipython",
    "version": 3
   },
   "file_extension": ".py",
   "mimetype": "text/x-python",
   "name": "python",
   "nbconvert_exporter": "python",
   "pygments_lexer": "ipython3",
   "version": "3.9.7"
  }
 },
 "nbformat": 4,
 "nbformat_minor": 5
}
