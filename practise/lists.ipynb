{
 "cells": [
  {
   "cell_type": "code",
   "execution_count": 1,
   "id": "0b3500c9",
   "metadata": {},
   "outputs": [
    {
     "name": "stdout",
     "output_type": "stream",
     "text": [
      "0 narendra\n",
      "1 venkatesh\n",
      "2 rajashekar\n"
     ]
    }
   ],
   "source": [
    "friends = [\"narendra\",\"venkatesh\",\"rajashekar\"]\n",
    "for index,friend in enumerate(friends):\n",
    "    print(f\"{index} {friend}\")"
   ]
  },
  {
   "cell_type": "code",
   "execution_count": 2,
   "id": "287aa39f",
   "metadata": {},
   "outputs": [
    {
     "name": "stdout",
     "output_type": "stream",
     "text": [
      "0 Narendra\n",
      "1 Venkatesh\n",
      "2 Rajashekar\n"
     ]
    }
   ],
   "source": [
    "friends = [\"narendra\",\"venkatesh\",\"rajashekar\"]\n",
    "for index,friend in enumerate(friends):\n",
    "    print(f\"{index} {friend.title()}\")"
   ]
  },
  {
   "cell_type": "code",
   "execution_count": null,
   "id": "3022f0ba",
   "metadata": {},
   "outputs": [],
   "source": []
  }
 ],
 "metadata": {
  "kernelspec": {
   "display_name": "Python 3 (ipykernel)",
   "language": "python",
   "name": "python3"
  },
  "language_info": {
   "codemirror_mode": {
    "name": "ipython",
    "version": 3
   },
   "file_extension": ".py",
   "mimetype": "text/x-python",
   "name": "python",
   "nbconvert_exporter": "python",
   "pygments_lexer": "ipython3",
   "version": "3.9.7"
  }
 },
 "nbformat": 4,
 "nbformat_minor": 5
}
