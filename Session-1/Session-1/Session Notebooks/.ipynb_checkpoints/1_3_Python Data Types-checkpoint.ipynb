{
 "cells": [
  {
   "cell_type": "markdown",
   "metadata": {},
   "source": [
    "## Python: Session #1\n",
    "\n",
    "Topic - Variables and Data types\n",
    "     - Variables and user inputs\n",
    "     - Basic types: Int, Float, String, Boolean\n",
    "     - Other: List, Tuples, Dictionaries\n",
    "     - Indexing and slicing"
   ]
  },
  {
   "cell_type": "markdown",
   "metadata": {},
   "source": [
    "### Variables and Datatypes"
   ]
  },
  {
   "cell_type": "markdown",
   "metadata": {},
   "source": [
    "#### Integers; Strings; Floats; Boolean"
   ]
  },
  {
   "cell_type": "code",
   "execution_count": 1,
   "metadata": {},
   "outputs": [],
   "source": [
    "#unlike other languages such as C, C++, Java\n",
    "#there is no need to define what type a variable is\n",
    "#there is no need to make unusual imports\n",
    "#the first line of your code can be functional!\n",
    "\n",
    "int_var = 10\n",
    "str_var = \"I am cool\"\n",
    "float_var = 10.0\n",
    "boolean_var = True"
   ]
  },
  {
   "cell_type": "code",
   "execution_count": 2,
   "metadata": {
    "ExecuteTime": {
     "end_time": "2019-07-19T07:19:45.705364Z",
     "start_time": "2019-07-19T07:19:44.087660Z"
    }
   },
   "outputs": [
    {
     "name": "stdout",
     "output_type": "stream",
     "text": [
      "Enter your name: Shyam\n",
      "Shyam\n"
     ]
    }
   ],
   "source": [
    "## take user input\n",
    "\n",
    "##Python 2\n",
    "# name = raw_input(\"Enter your name: \" )\n",
    "\n",
    "##Python 3\n",
    "name = input(\"Enter your name: \")  #Takes character. Eg. If you enter 5, it will be \"5\"(type: str) not 5(type: int)\n",
    "print(name)"
   ]
  },
  {
   "cell_type": "code",
   "execution_count": 3,
   "metadata": {},
   "outputs": [
    {
     "data": {
      "text/plain": [
       "True"
      ]
     },
     "execution_count": 3,
     "metadata": {},
     "output_type": "execute_result"
    }
   ],
   "source": [
    "int_var\n",
    "str_var\n",
    "float_var\n",
    "boolean_var\n",
    "\n",
    "#only the output of the last command is visible (all other outputs are overwritten)"
   ]
  },
  {
   "cell_type": "code",
   "execution_count": 4,
   "metadata": {},
   "outputs": [
    {
     "name": "stdout",
     "output_type": "stream",
     "text": [
      "10\n",
      "I am cool\n",
      "a\n",
      "10.0\n",
      "True\n"
     ]
    }
   ],
   "source": [
    "print int_var\n",
    "print str_var\n",
    "print str_var[2]\n",
    "print float_var\n",
    "print boolean_var\n",
    "\n",
    "#all outputs are visible (print function appends a 'newline' character - \"\\n\" at the end of each line)"
   ]
  },
  {
   "cell_type": "code",
   "execution_count": 3,
   "metadata": {
    "ExecuteTime": {
     "end_time": "2019-07-19T07:21:09.841924Z",
     "start_time": "2019-07-19T07:21:09.791377Z"
    }
   },
   "outputs": [
    {
     "data": {
      "text/plain": [
       "\"Hello 'World'\""
      ]
     },
     "execution_count": 3,
     "metadata": {},
     "output_type": "execute_result"
    }
   ],
   "source": [
    "a= 'Hello World'\n",
    "a = \"Hello 'World'\"\n",
    "a"
   ]
  },
  {
   "cell_type": "code",
   "execution_count": 4,
   "metadata": {
    "ExecuteTime": {
     "end_time": "2019-07-19T07:22:48.445868Z",
     "start_time": "2019-07-19T07:22:48.427363Z"
    }
   },
   "outputs": [
    {
     "data": {
      "text/plain": [
       "['Hello', \"'World'\"]"
      ]
     },
     "execution_count": 4,
     "metadata": {},
     "output_type": "execute_result"
    }
   ],
   "source": [
    "a.split(\" \")"
   ]
  },
  {
   "cell_type": "markdown",
   "metadata": {},
   "source": [
    "#### Lists"
   ]
  },
  {
   "cell_type": "code",
   "execution_count": 5,
   "metadata": {
    "ExecuteTime": {
     "end_time": "2019-07-19T07:23:54.972941Z",
     "start_time": "2019-07-19T07:23:54.957924Z"
    }
   },
   "outputs": [
    {
     "name": "stdout",
     "output_type": "stream",
     "text": [
      "[2, 10, 35, 21, 'abc', True, 2.0]\n",
      "Type of variable:  <class 'list'>\n"
     ]
    }
   ],
   "source": [
    "#a list is a heterogenous collection of objects\n",
    "list_var = [2, 10, 35, 21, \"abc\", True, 2.0]\n",
    "\n",
    "print(list_var)\n",
    "\n",
    "print(\"Type of variable: \", type(list_var))"
   ]
  },
  {
   "cell_type": "code",
   "execution_count": 6,
   "metadata": {},
   "outputs": [
    {
     "name": "stdout",
     "output_type": "stream",
     "text": [
      "[True, 2, 2.0, 10, 21, 35, 'abc']\n",
      "[True, 2, 2.0, 10, 21, 35, 'abc', 100]\n",
      "[True, 2, 2.0, 10, 21, 35, 'abc', 100, 'a', 'b', 'c']\n",
      "\n",
      "List help funcions\n",
      "Help on method_descriptor:\n",
      "\n",
      "insert(...)\n",
      "    L.insert(index, object) -- insert object before index\n",
      "\n",
      "Help on method_descriptor:\n",
      "\n",
      "extend(...)\n",
      "    L.extend(iterable) -- extend list by appending elements from the iterable\n",
      "\n"
     ]
    }
   ],
   "source": [
    "#the list template (technically - the list class) offers multiple list specific functions and properties\n",
    "list_var.sort()\n",
    "print(list_var)\n",
    "\n",
    "list_var.append(100)\n",
    "print(list_var)\n",
    "\n",
    "list_var.extend(['a','b','c'])\n",
    "print(list_var)\n",
    "\n",
    "#doing a list.<tab> will bring up a dropdown of all methods/properties available in the list template\n",
    "#(this works for other templates as well)\n",
    "\n",
    "#hit tab after the '.' in the below line\n",
    "# list.\n",
    "\n",
    "#if you're running this cell comment out the previous line (duh!)\n",
    "\n",
    "#you can also use the help function to get more info on these\n",
    "print (\"\\nList help funcions\")\n",
    "help(list.insert)\n",
    "help(list.extend)"
   ]
  },
  {
   "cell_type": "code",
   "execution_count": 7,
   "metadata": {},
   "outputs": [
    {
     "name": "stdout",
     "output_type": "stream",
     "text": [
      "list a - [4, 2, 6, 3, 1, 8, 3, 1]\n",
      "list b - [1, 1, 2, 3, 3, 4, 6, 8]\n"
     ]
    }
   ],
   "source": [
    "#notice how in all these above function (a.<xyz> type) calls there is nothing being returned\n",
    "#list a is bing changed in place (list a is being mutated)\n",
    "\n",
    "#an example to elaborate this further\n",
    "lista = [4,2,6,3,1,8,3,1]\n",
    "listb = sorted(lista, reverse=False)\n",
    "\n",
    "print(\"list a - \"+str(lista))\n",
    "print(\"list b - \"+str(listb))\n",
    "\n",
    "#clearly you can see the sorted function leaves list a untouched and creates a new list listb"
   ]
  },
  {
   "cell_type": "code",
   "execution_count": 8,
   "metadata": {},
   "outputs": [
    {
     "name": "stdout",
     "output_type": "stream",
     "text": [
      "[4, 2, 6, 'blah', 'blahblah', 8, 3, 1]\n",
      "[1, 1, 2, 3, 3, 4, 6, 8]\n"
     ]
    }
   ],
   "source": [
    "#list support item assignment - you can change an object at a particular index in a list\n",
    "lista[3] = \"blah\"\n",
    "lista[-4] = \"blahblah\"\n",
    "\n",
    "print (lista)\n",
    "print (listb)"
   ]
  },
  {
   "cell_type": "code",
   "execution_count": 9,
   "metadata": {},
   "outputs": [
    {
     "name": "stdout",
     "output_type": "stream",
     "text": [
      "3\n",
      "65\n",
      "89\n",
      "65\n"
     ]
    }
   ],
   "source": [
    "#lists support indexing and slicing\n",
    "\n",
    "listc=[1,23,3,43,54,65,71,89]\n",
    "\n",
    "#indices start at 0 (unlike R where index starts at 1)\n",
    "print listc[2]\n",
    "print listc[5]\n",
    "\n",
    "#negative indices work as well\n",
    "print listc[-1]\n",
    "print listc[-3]"
   ]
  },
  {
   "cell_type": "code",
   "execution_count": 10,
   "metadata": {},
   "outputs": [
    {
     "name": "stdout",
     "output_type": "stream",
     "text": [
      "Indexed from 2 to 5 [3, 43, 54]\n",
      "Indexed upto 4 [1, 23, 3, 43]\n",
      "Indexed from 3 [43, 54, 65, 71, 89]\n",
      "Indexed from -3 to 1 [65, 71]\n",
      "Indexed from -4 [54, 65, 71, 89]\n",
      "Indexed upto -2 [1, 23, 3, 43, 54, 65]\n"
     ]
    }
   ],
   "source": [
    "#to extract a slice from a, use the ':' operator\n",
    "\n",
    "print \"Indexed from 2 to 5\", listc[2:5]\n",
    "print \"Indexed upto 4\", listc[:4]\n",
    "print \"Indexed from 3\", listc[3:]\n",
    "\n",
    "print \"Indexed from -3 to 1\", listc[-3:-1]\n",
    "print \"Indexed from -4\", listc[-4:]\n",
    "print \"Indexed upto -2\", listc[:-2]\n",
    "\n",
    "#please note:\n",
    "#limits in python of the form a,b or a:b almost always are INCLUSIVE of a and EXCLUSIVE of b"
   ]
  },
  {
   "cell_type": "markdown",
   "metadata": {},
   "source": [
    "#### String can also be accessed just like lists"
   ]
  },
  {
   "cell_type": "code",
   "execution_count": 20,
   "metadata": {
    "ExecuteTime": {
     "end_time": "2019-07-19T07:28:17.876621Z",
     "start_time": "2019-07-19T07:28:17.870618Z"
    }
   },
   "outputs": [],
   "source": [
    "str_var=\"Hello World\""
   ]
  },
  {
   "cell_type": "code",
   "execution_count": 21,
   "metadata": {
    "ExecuteTime": {
     "end_time": "2019-07-19T07:28:18.493448Z",
     "start_time": "2019-07-19T07:28:18.484437Z"
    }
   },
   "outputs": [
    {
     "data": {
      "text/plain": [
       "'llo'"
      ]
     },
     "execution_count": 21,
     "metadata": {},
     "output_type": "execute_result"
    }
   ],
   "source": [
    "str_var[2:5]\n",
    "\n",
    "# Q: Are strings mutable like lists?\n",
    "# A: Yes, the string operations are done exactly like in the lists and change the value qithout an external assignment\n",
    "# Eg. a = \"char\"\n",
    "#     a..islower()\n",
    "\n",
    "## H/W: Explore string operations!"
   ]
  },
  {
   "cell_type": "code",
   "execution_count": 12,
   "metadata": {},
   "outputs": [
    {
     "name": "stdout",
     "output_type": "stream",
     "text": [
      "[23, 54]\n",
      "[1, 43, 71]\n",
      "[89, 71, 65, 54]\n"
     ]
    }
   ],
   "source": [
    "#a second ':' operator can be used to specify a step interval\n",
    "print listc[1:6:3]\n",
    "print listc[-8:-1:3]\n",
    "\n",
    "listc[-1]\n",
    "\n",
    "#use this creatively to reverse the order of slicing\n",
    "print listc[-1:-5:-1]\n",
    "\n",
    "## H/W: Reverse the order of a list using slicing alone?"
   ]
  },
  {
   "cell_type": "markdown",
   "metadata": {},
   "source": [
    "#### Tuples"
   ]
  },
  {
   "cell_type": "code",
   "execution_count": 13,
   "metadata": {},
   "outputs": [
    {
     "name": "stdout",
     "output_type": "stream",
     "text": [
      "Count of 2 in tuple:  1\n",
      "1\n",
      "2.0\n",
      "abc\n"
     ]
    }
   ],
   "source": [
    "#tuples are immutable lists\n",
    "\n",
    "tup_a = (1,2,3,8,5)\n",
    "\n",
    "print \"Count of 2 in tuple: \", tup_a.count(2)\n",
    "\n",
    "#they have all the properties of lists except for their mutability\n",
    "\n",
    "#although users don't often use tuples, python uses them for a lot of background activities\n",
    "#function calls - parameters to a function are passed to the function in a tuple\n",
    "#multi-variable assignment - look below\n",
    "a,b,c = 1,2.0,\"abc\"\n",
    "print a\n",
    "print b\n",
    "print c"
   ]
  },
  {
   "cell_type": "markdown",
   "metadata": {},
   "source": [
    "#### Dictionaries"
   ]
  },
  {
   "cell_type": "code",
   "execution_count": 14,
   "metadata": {},
   "outputs": [
    {
     "name": "stdout",
     "output_type": "stream",
     "text": [
      "{'a': 'apple', 3: 'three', 'b': 'bat', 'four': 4}\n",
      "apple\n",
      "{'a': 'apple', 3: 'threeeeeee', 'b': 'bat', 'four': 4}\n",
      "(1, 2, 3, 4)\n",
      "tuple a\n"
     ]
    }
   ],
   "source": [
    "#dictionaries are bags of key-value pairs in no particular order\n",
    "\n",
    "d = {'a':'apple', 'b':'bat', 3:'three', 'four':4}\n",
    "print d\n",
    "\n",
    "print d['a']\n",
    "\n",
    "d[3] = 'threeeeeee'\n",
    "print d\n",
    "\n",
    "#dictionaries can also have tuples as keys/values\n",
    "d = {(1,2,3):\"tuple a\", \"tuple b\":(1,2,3,4)}\n",
    "print d['tuple b']\n",
    "print d[(1,2,3)]\n",
    "\n",
    "#lists/dictionaries can be values but NOT keys"
   ]
  },
  {
   "cell_type": "code",
   "execution_count": 15,
   "metadata": {
    "collapsed": true
   },
   "outputs": [],
   "source": [
    "#dictionaries can be used as a structure to store variables of similar functional purposes\n",
    "#(like parameters/settings being used in a code)\n",
    "\n",
    "#named arguments in a function call are passed as dictionaries"
   ]
  },
  {
   "cell_type": "markdown",
   "metadata": {},
   "source": [
    "### Appendix"
   ]
  },
  {
   "cell_type": "code",
   "execution_count": 16,
   "metadata": {},
   "outputs": [
    {
     "name": "stdout",
     "output_type": "stream",
     "text": [
      "lo\n",
      "-----------\n",
      "h\n",
      "e\n",
      "l\n",
      "l\n",
      "o\n",
      "o\n",
      "o\n",
      "o\n",
      "-----------\n",
      "<type 'int'>\n",
      "<type 'str'>\n",
      "<type 'list'>\n",
      "-----------\n",
      "text 1 and text 2 are on the same line\n",
      "-----------\n",
      "1234 <type 'int'>\n",
      "5678 <type 'str'>\n",
      "[1, 2, 3, 4, 5, 6, 7, 8, 9, 10] <type 'list'>\n",
      "(1, 2, 3) <type 'tuple'>\n",
      "-----------\n",
      "[5, 10, 15, 20, 25]\n"
     ]
    }
   ],
   "source": [
    "#strings work like iterables\n",
    "a = \"helloooo\"\n",
    "print a[-6:-2:2]\n",
    "print \"-----------\"\n",
    "\n",
    "#you can even use them in loops\n",
    "for char in a:\n",
    "    print char\n",
    "print \"-----------\"\n",
    "\n",
    "#use the 'type' function to find the datatype of a variable\n",
    "print type(123)\n",
    "print type(\"hellooo\")\n",
    "print type([1,2,3,4])\n",
    "print \"-----------\"\n",
    "\n",
    "#the newline character at the end of a line in the print command can be\n",
    "#supressed (technically replaced by a \" \") by using a trailing comma\n",
    "print \"text 1\",\n",
    "print \"and text 2\",\n",
    "print \"are on the same line\"\n",
    "print \"-----------\"\n",
    "\n",
    "#types in python can be converted explicitly\n",
    "a = int(\"1234\")\n",
    "b = str(5678)\n",
    "c = list(range(1,11))\n",
    "d = tuple([1,2,3])\n",
    "\n",
    "print a, type(a)\n",
    "print b, type(b)\n",
    "print c, type(c)\n",
    "print d, type(d)\n",
    "print \"-----------\"\n",
    "\n",
    "#'for' can be used INSIDE A LIST! Yes, you heard that right! INSIDE A LIST!!\n",
    "lista = list(range(1,6))\n",
    "listb = [x*5 for x in lista]\n",
    "\n",
    "#This is list comprehension: pythonic way\n",
    "print listb"
   ]
  }
 ],
 "metadata": {
  "kernelspec": {
   "display_name": "Python 3",
   "language": "python",
   "name": "python3"
  },
  "language_info": {
   "codemirror_mode": {
    "name": "ipython",
    "version": 3
   },
   "file_extension": ".py",
   "mimetype": "text/x-python",
   "name": "python",
   "nbconvert_exporter": "python",
   "pygments_lexer": "ipython3",
   "version": "3.7.0"
  },
  "toc": {
   "base_numbering": 1,
   "nav_menu": {},
   "number_sections": true,
   "sideBar": true,
   "skip_h1_title": false,
   "title_cell": "Table of Contents",
   "title_sidebar": "Contents",
   "toc_cell": false,
   "toc_position": {},
   "toc_section_display": true,
   "toc_window_display": true
  },
  "varInspector": {
   "cols": {
    "lenName": 16,
    "lenType": 16,
    "lenVar": 40
   },
   "kernels_config": {
    "python": {
     "delete_cmd_postfix": "",
     "delete_cmd_prefix": "del ",
     "library": "var_list.py",
     "varRefreshCmd": "print(var_dic_list())"
    },
    "r": {
     "delete_cmd_postfix": ") ",
     "delete_cmd_prefix": "rm(",
     "library": "var_list.r",
     "varRefreshCmd": "cat(var_dic_list()) "
    }
   },
   "types_to_exclude": [
    "module",
    "function",
    "builtin_function_or_method",
    "instance",
    "_Feature"
   ],
   "window_display": false
  }
 },
 "nbformat": 4,
 "nbformat_minor": 1
}
