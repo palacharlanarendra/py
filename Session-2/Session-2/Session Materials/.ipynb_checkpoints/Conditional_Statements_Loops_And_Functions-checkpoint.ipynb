{
 "cells": [
  {
   "cell_type": "markdown",
   "metadata": {},
   "source": [
    "## Conditional Statements"
   ]
  },
  {
   "cell_type": "markdown",
   "metadata": {},
   "source": [
    "**Example Problem: Given a number, write a program that will print whether the number is odd or even**"
   ]
  },
  {
   "cell_type": "code",
   "execution_count": 9,
   "metadata": {
    "ExecuteTime": {
     "end_time": "2019-09-16T05:50:46.711021Z",
     "start_time": "2019-09-16T05:50:45.209966Z"
    }
   },
   "outputs": [
    {
     "name": "stdout",
     "output_type": "stream",
     "text": [
      "Enter a number: 6\n",
      "Number entered: 6\n"
     ]
    }
   ],
   "source": [
    "number = int(input(\"Enter a number: \"))\n",
    "print(\"Number entered: %s\"%number)"
   ]
  },
  {
   "cell_type": "markdown",
   "metadata": {
    "ExecuteTime": {
     "end_time": "2019-09-16T05:48:59.020793Z",
     "start_time": "2019-09-16T05:48:59.003780Z"
    }
   },
   "source": [
    "*Note: The modulo or remainder operator \"%\", used in a formulae as \"a % b\", returns the remainder obtained when a is divided by b*"
   ]
  },
  {
   "cell_type": "code",
   "execution_count": 16,
   "metadata": {
    "ExecuteTime": {
     "end_time": "2019-09-16T05:58:24.146604Z",
     "start_time": "2019-09-16T05:58:24.131597Z"
    }
   },
   "outputs": [
    {
     "name": "stdout",
     "output_type": "stream",
     "text": [
      "Odd\n"
     ]
    }
   ],
   "source": [
    "if number % 2 ==0:\n",
    "    print(\"Even\")\n",
    "else:\n",
    "    print(\"Odd\")"
   ]
  },
  {
   "cell_type": "markdown",
   "metadata": {},
   "source": [
    "**Example Problem 2: Given a number, write a program that will check whether the number is in a pre-defined list**"
   ]
  },
  {
   "cell_type": "code",
   "execution_count": 11,
   "metadata": {
    "ExecuteTime": {
     "end_time": "2019-09-16T05:52:40.875431Z",
     "start_time": "2019-09-16T05:52:40.860421Z"
    }
   },
   "outputs": [],
   "source": [
    "predefined_list = [5,6,7,8,9,10,11]"
   ]
  },
  {
   "cell_type": "code",
   "execution_count": 12,
   "metadata": {
    "ExecuteTime": {
     "end_time": "2019-09-16T05:52:46.820165Z",
     "start_time": "2019-09-16T05:52:44.631812Z"
    }
   },
   "outputs": [
    {
     "name": "stdout",
     "output_type": "stream",
     "text": [
      "Enter a number: 5\n",
      "Number entered: 5\n"
     ]
    }
   ],
   "source": [
    "number = int(input(\"Enter a number: \"))\n",
    "print(\"Number entered: %s\"%number)"
   ]
  },
  {
   "cell_type": "code",
   "execution_count": 13,
   "metadata": {
    "ExecuteTime": {
     "end_time": "2019-09-16T05:53:08.631476Z",
     "start_time": "2019-09-16T05:53:08.619470Z"
    }
   },
   "outputs": [
    {
     "name": "stdout",
     "output_type": "stream",
     "text": [
      "The number is present\n"
     ]
    }
   ],
   "source": [
    "if number in predefined_list:\n",
    "    print(\"The number is present\")\n",
    "else:\n",
    "    print(\"The number is not present\")"
   ]
  },
  {
   "cell_type": "markdown",
   "metadata": {},
   "source": [
    "**What are the other types of logical operations possible, other than \"==\" and \"in\"?**\n",
    "\n",
    "Read up on the following operators - \n",
    "```python\n",
    "<, >, <=, >=, !=, and, or, not, is, is not\n",
    "```"
   ]
  },
  {
   "cell_type": "markdown",
   "metadata": {},
   "source": [
    "## Loops"
   ]
  },
  {
   "cell_type": "markdown",
   "metadata": {},
   "source": [
    "Syntax - for loop\n",
    "\n",
    "```python\n",
    "\n",
    "for value in sequence:\n",
    "    #Do action with the value\n",
    "    \n",
    "    # End Action\n",
    "    \n",
    "```"
   ]
  },
  {
   "cell_type": "markdown",
   "metadata": {},
   "source": [
    "Process flow:\n",
    "![img_process_flow](https://cdn.programiz.com/sites/tutorial2program/files/forLoop.jpg)"
   ]
  },
  {
   "cell_type": "markdown",
   "metadata": {},
   "source": [
    "**Example Problem: Given a list of numbers, write a program that will print whether each of the numbers is odd or even**"
   ]
  },
  {
   "cell_type": "code",
   "execution_count": 15,
   "metadata": {
    "ExecuteTime": {
     "end_time": "2019-09-16T05:57:46.774852Z",
     "start_time": "2019-09-16T05:57:46.763844Z"
    }
   },
   "outputs": [],
   "source": [
    "list_numbers = [1,2,3,4,5,6,7,8,9,10]\n"
   ]
  },
  {
   "cell_type": "code",
   "execution_count": 17,
   "metadata": {
    "ExecuteTime": {
     "end_time": "2019-09-16T05:58:46.773234Z",
     "start_time": "2019-09-16T05:58:46.760225Z"
    },
    "code_folding": []
   },
   "outputs": [],
   "source": [
    "result = []\n",
    "for number in list_numbers:\n",
    "    if number % 2 == 0:\n",
    "        result.append(\"Even\")\n",
    "    else:\n",
    "        result.append(\"Odd\")"
   ]
  },
  {
   "cell_type": "code",
   "execution_count": 18,
   "metadata": {
    "ExecuteTime": {
     "end_time": "2019-09-16T05:58:50.655034Z",
     "start_time": "2019-09-16T05:58:50.647030Z"
    }
   },
   "outputs": [
    {
     "data": {
      "text/plain": [
       "['Odd', 'Even', 'Odd', 'Even', 'Odd', 'Even', 'Odd', 'Even', 'Odd', 'Even']"
      ]
     },
     "execution_count": 18,
     "metadata": {},
     "output_type": "execute_result"
    }
   ],
   "source": [
    "result"
   ]
  },
  {
   "cell_type": "markdown",
   "metadata": {},
   "source": [
    "**Alternate implementation**"
   ]
  },
  {
   "cell_type": "markdown",
   "metadata": {},
   "source": [
    "*Note: the range function is used to iterate from one starting point through an ending point.<br>\n",
    "Eg:*\n",
    "```python\n",
    "list(range(0,5))\n",
    "```\n",
    "*will print*\n",
    "```python\n",
    "[0,1,2,3,4]\n",
    "```"
   ]
  },
  {
   "cell_type": "code",
   "execution_count": 19,
   "metadata": {
    "ExecuteTime": {
     "end_time": "2019-09-16T05:59:42.303805Z",
     "start_time": "2019-09-16T05:59:42.298801Z"
    }
   },
   "outputs": [],
   "source": [
    "list_size = len(list_numbers)"
   ]
  },
  {
   "cell_type": "code",
   "execution_count": 21,
   "metadata": {
    "ExecuteTime": {
     "end_time": "2019-09-16T06:02:45.877987Z",
     "start_time": "2019-09-16T06:02:45.871985Z"
    }
   },
   "outputs": [],
   "source": [
    "result = []\n",
    "for i in range(0,list_size):\n",
    "    if list_numbers[i] % 2 == 0:\n",
    "        result.append(\"Even\")\n",
    "    else:\n",
    "        result.append(\"Odd\")"
   ]
  },
  {
   "cell_type": "code",
   "execution_count": 23,
   "metadata": {
    "ExecuteTime": {
     "end_time": "2019-09-16T06:05:00.428482Z",
     "start_time": "2019-09-16T06:05:00.420474Z"
    }
   },
   "outputs": [
    {
     "data": {
      "text/plain": [
       "['Odd', 'Even', 'Odd', 'Even', 'Odd', 'Even', 'Odd', 'Even', 'Odd', 'Even']"
      ]
     },
     "execution_count": 23,
     "metadata": {},
     "output_type": "execute_result"
    }
   ],
   "source": [
    "result"
   ]
  },
  {
   "cell_type": "markdown",
   "metadata": {},
   "source": [
    "For more info, refer to : https://data36.com/python-for-loops-explained-data-science-basics-5/"
   ]
  },
  {
   "cell_type": "markdown",
   "metadata": {},
   "source": [
    "**What other types of loops are there?**"
   ]
  },
  {
   "cell_type": "markdown",
   "metadata": {},
   "source": [
    "## Functions"
   ]
  },
  {
   "cell_type": "markdown",
   "metadata": {},
   "source": [
    "**Example Problem: Write a function that takes a number, and returns whether it is odd or even**"
   ]
  },
  {
   "cell_type": "code",
   "execution_count": 22,
   "metadata": {
    "ExecuteTime": {
     "end_time": "2019-09-16T06:04:39.175343Z",
     "start_time": "2019-09-16T06:04:39.170340Z"
    }
   },
   "outputs": [],
   "source": [
    "def odd_or_even(number):\n",
    "    if number % 2 ==0:\n",
    "        return 'Even'\n",
    "    else:\n",
    "        return 'Odd'"
   ]
  },
  {
   "cell_type": "code",
   "execution_count": 24,
   "metadata": {
    "ExecuteTime": {
     "end_time": "2019-09-16T06:06:19.858397Z",
     "start_time": "2019-09-16T06:06:19.852390Z"
    }
   },
   "outputs": [],
   "source": [
    "result = []\n",
    "for number in list_numbers:\n",
    "    number_type = odd_or_even(number)\n",
    "    result.append(number_type)"
   ]
  },
  {
   "cell_type": "code",
   "execution_count": 25,
   "metadata": {
    "ExecuteTime": {
     "end_time": "2019-09-16T06:06:24.153992Z",
     "start_time": "2019-09-16T06:06:24.146990Z"
    }
   },
   "outputs": [
    {
     "data": {
      "text/plain": [
       "['Odd', 'Even', 'Odd', 'Even', 'Odd', 'Even', 'Odd', 'Even', 'Odd', 'Even']"
      ]
     },
     "execution_count": 25,
     "metadata": {},
     "output_type": "execute_result"
    }
   ],
   "source": [
    "result"
   ]
  }
 ],
 "metadata": {
  "kernelspec": {
   "display_name": "Python 3",
   "language": "python",
   "name": "python3"
  },
  "language_info": {
   "codemirror_mode": {
    "name": "ipython",
    "version": 3
   },
   "file_extension": ".py",
   "mimetype": "text/x-python",
   "name": "python",
   "nbconvert_exporter": "python",
   "pygments_lexer": "ipython3",
   "version": "3.7.0"
  },
  "toc": {
   "base_numbering": 1,
   "nav_menu": {},
   "number_sections": true,
   "sideBar": true,
   "skip_h1_title": true,
   "title_cell": "Table of Contents",
   "title_sidebar": "Contents",
   "toc_cell": false,
   "toc_position": {},
   "toc_section_display": true,
   "toc_window_display": true
  },
  "varInspector": {
   "cols": {
    "lenName": 16,
    "lenType": 16,
    "lenVar": 40
   },
   "kernels_config": {
    "python": {
     "delete_cmd_postfix": "",
     "delete_cmd_prefix": "del ",
     "library": "var_list.py",
     "varRefreshCmd": "print(var_dic_list())"
    },
    "r": {
     "delete_cmd_postfix": ") ",
     "delete_cmd_prefix": "rm(",
     "library": "var_list.r",
     "varRefreshCmd": "cat(var_dic_list()) "
    }
   },
   "types_to_exclude": [
    "module",
    "function",
    "builtin_function_or_method",
    "instance",
    "_Feature"
   ],
   "window_display": false
  }
 },
 "nbformat": 4,
 "nbformat_minor": 2
}
